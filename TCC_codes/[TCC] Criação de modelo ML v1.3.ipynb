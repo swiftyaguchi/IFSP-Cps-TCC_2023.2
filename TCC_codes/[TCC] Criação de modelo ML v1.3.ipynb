{
 "cells": [
  {
   "cell_type": "markdown",
   "id": "78ffbd83-345d-4502-a4ae-7d094f92c96f",
   "metadata": {
    "tags": []
   },
   "source": [
    "**IFSP - Campus Campinas** <br>\n",
    "**Pós-graduação em Ciência de Dados** <br>\n",
    "\n",
    "**TCC - Avaliação de Projetos de Lei usando técnicas de NLP/ML**\n",
    "\n",
    "#### Sprint 3 - v 1.3 \n",
    "- limpeza inicial de linhas com NaN no campo 'Texto'\n",
    "- pre-processamento com Spacy seguido de Neattext\n",
    "- feature extraction com TfidfVectorizer na coluna 'Texto' da PLO\n",
    "- treinamento com LogisticRegression\n",
    "- rodado em PC local (não AWS)\n",
    "\n",
    "Ref:  Natural Language Processing (NLP) 2023.1 - IFSP Campinas <br>\n",
    "https://github.com/prof-samuka-IFSP/IFSP-CMP-D3TOP-2023.1/tree/main\n",
    "\n",
    "Orientadora: Bianca Maria Pedrosa - IFSP Campinas<br>\n",
    "Aluno: Swift Motoo Yaguchi - CP301665X"
   ]
  },
  {
   "cell_type": "markdown",
   "id": "29e47f9a-d68f-4484-aaf3-68077dbd0463",
   "metadata": {},
   "source": [
    "------"
   ]
  },
  {
   "cell_type": "markdown",
   "id": "11ae6a1f-7ca9-45ad-8546-1b8bdf1c4358",
   "metadata": {},
   "source": [
    "### 1. Etapa de limpeza e pré-processamento"
   ]
  },
  {
   "cell_type": "markdown",
   "id": "b6bf9296-072e-484f-97bb-35a557e16388",
   "metadata": {},
   "source": [
    "##### Instalando bibliotecas"
   ]
  },
  {
   "cell_type": "code",
   "execution_count": 1,
   "id": "b7b5c3bf-1a95-4c9d-bf87-a2baddf23965",
   "metadata": {
    "tags": []
   },
   "outputs": [
    {
     "name": "stdout",
     "output_type": "stream",
     "text": [
      "Requirement already satisfied: wordcloud in c:\\users\\swift\\appdata\\local\\programs\\python\\python311\\lib\\site-packages (1.9.2)\n",
      "Requirement already satisfied: numpy>=1.6.1 in c:\\users\\swift\\appdata\\local\\programs\\python\\python311\\lib\\site-packages (from wordcloud) (1.23.5)\n",
      "Requirement already satisfied: pillow in c:\\users\\swift\\appdata\\local\\programs\\python\\python311\\lib\\site-packages (from wordcloud) (9.5.0)\n",
      "Requirement already satisfied: matplotlib in c:\\users\\swift\\appdata\\local\\programs\\python\\python311\\lib\\site-packages (from wordcloud) (3.7.1)\n",
      "Requirement already satisfied: contourpy>=1.0.1 in c:\\users\\swift\\appdata\\local\\programs\\python\\python311\\lib\\site-packages (from matplotlib->wordcloud) (1.0.7)\n",
      "Requirement already satisfied: cycler>=0.10 in c:\\users\\swift\\appdata\\local\\programs\\python\\python311\\lib\\site-packages (from matplotlib->wordcloud) (0.11.0)\n",
      "Requirement already satisfied: fonttools>=4.22.0 in c:\\users\\swift\\appdata\\local\\programs\\python\\python311\\lib\\site-packages (from matplotlib->wordcloud) (4.39.4)\n",
      "Requirement already satisfied: kiwisolver>=1.0.1 in c:\\users\\swift\\appdata\\local\\programs\\python\\python311\\lib\\site-packages (from matplotlib->wordcloud) (1.4.4)\n",
      "Requirement already satisfied: packaging>=20.0 in c:\\users\\swift\\appdata\\local\\programs\\python\\python311\\lib\\site-packages (from matplotlib->wordcloud) (23.1)\n",
      "Requirement already satisfied: pyparsing>=2.3.1 in c:\\users\\swift\\appdata\\local\\programs\\python\\python311\\lib\\site-packages (from matplotlib->wordcloud) (3.0.9)\n",
      "Requirement already satisfied: python-dateutil>=2.7 in c:\\users\\swift\\appdata\\local\\programs\\python\\python311\\lib\\site-packages (from matplotlib->wordcloud) (2.8.2)\n",
      "Requirement already satisfied: six>=1.5 in c:\\users\\swift\\appdata\\local\\programs\\python\\python311\\lib\\site-packages (from python-dateutil>=2.7->matplotlib->wordcloud) (1.16.0)\n"
     ]
    }
   ],
   "source": [
    "#Upgrade dependencies\n",
    "#!pip install --upgrade pip\n",
    "#!pip install --upgrade scikit-learn\n",
    "!pip install --upgrade wordcloud\n",
    "#!pip install --upgrade sagemaker"
   ]
  },
  {
   "cell_type": "code",
   "execution_count": 2,
   "id": "912308e6-91f9-4170-be93-aa3c55d9ed41",
   "metadata": {
    "tags": []
   },
   "outputs": [],
   "source": [
    "import pandas as pd\n",
    "import numpy as np"
   ]
  },
  {
   "cell_type": "markdown",
   "id": "adf8f8e4-94e1-4d90-a2f9-581e55ee83f0",
   "metadata": {},
   "source": [
    "##### Leitura da base de dados"
   ]
  },
  {
   "cell_type": "code",
   "execution_count": 3,
   "id": "34f5db8c-2b91-4d36-9155-0913409ded22",
   "metadata": {
    "scrolled": true,
    "tags": []
   },
   "outputs": [
    {
     "data": {
      "text/html": [
       "<div>\n",
       "<style scoped>\n",
       "    .dataframe tbody tr th:only-of-type {\n",
       "        vertical-align: middle;\n",
       "    }\n",
       "\n",
       "    .dataframe tbody tr th {\n",
       "        vertical-align: top;\n",
       "    }\n",
       "\n",
       "    .dataframe thead th {\n",
       "        text-align: right;\n",
       "    }\n",
       "</style>\n",
       "<table border=\"1\" class=\"dataframe\">\n",
       "  <thead>\n",
       "    <tr style=\"text-align: right;\">\n",
       "      <th></th>\n",
       "      <th>Vereador</th>\n",
       "      <th>Partido</th>\n",
       "      <th>Aprovado</th>\n",
       "      <th>Ementa</th>\n",
       "      <th>Texto</th>\n",
       "    </tr>\n",
       "  </thead>\n",
       "  <tbody>\n",
       "    <tr>\n",
       "      <th>0</th>\n",
       "      <td>Ailton da Farmácia</td>\n",
       "      <td>PSD</td>\n",
       "      <td>sim</td>\n",
       "      <td>DECLARA ÓRGÃO DE UTILIDADE PÚBLICA MUNICIPAL A...</td>\n",
       "      <td>Art. I Q Fica declarada órgão de utilidade púb...</td>\n",
       "    </tr>\n",
       "    <tr>\n",
       "      <th>1</th>\n",
       "      <td>Ailton da Farmácia</td>\n",
       "      <td>PSD</td>\n",
       "      <td>sim</td>\n",
       "      <td>DENOMINA PRAÇA ZILDA MELLO SMILGYS UMA PRAÇA P...</td>\n",
       "      <td>Art. I P Fica denominada Praça Zilda Mello Smi...</td>\n",
       "    </tr>\n",
       "    <tr>\n",
       "      <th>2</th>\n",
       "      <td>Ailton da Farmácia</td>\n",
       "      <td>PSD</td>\n",
       "      <td>sim</td>\n",
       "      <td>DENOMINA RUA JOSÉ LATARO UMA VIA PÚBLICA DO MU...</td>\n",
       "      <td>Art. 10 Fica denominada Rua José Lataro a Rua ...</td>\n",
       "    </tr>\n",
       "    <tr>\n",
       "      <th>3</th>\n",
       "      <td>Ailton da Farmácia</td>\n",
       "      <td>PSD</td>\n",
       "      <td>sim</td>\n",
       "      <td>DENOMINA PRAÇA ROBERTO ANGELO CASTELLO UMA ÁRE...</td>\n",
       "      <td>Art. 1 0 Fica denominada Praça Roberto Angelo ...</td>\n",
       "    </tr>\n",
       "    <tr>\n",
       "      <th>4</th>\n",
       "      <td>Ailton da Farmácia</td>\n",
       "      <td>PSD</td>\n",
       "      <td>não</td>\n",
       "      <td>DISPÕE SOBRE A GRATUIDADE POR ATÉ DUAS HORAS D...</td>\n",
       "      <td>Art. 1 0 Institui a gratuidade por até duas ho...</td>\n",
       "    </tr>\n",
       "  </tbody>\n",
       "</table>\n",
       "</div>"
      ],
      "text/plain": [
       "             Vereador Partido Aprovado   \n",
       "0  Ailton da Farmácia     PSD      sim  \\\n",
       "1  Ailton da Farmácia     PSD      sim   \n",
       "2  Ailton da Farmácia     PSD      sim   \n",
       "3  Ailton da Farmácia     PSD      sim   \n",
       "4  Ailton da Farmácia     PSD      não   \n",
       "\n",
       "                                              Ementa   \n",
       "0  DECLARA ÓRGÃO DE UTILIDADE PÚBLICA MUNICIPAL A...  \\\n",
       "1  DENOMINA PRAÇA ZILDA MELLO SMILGYS UMA PRAÇA P...   \n",
       "2  DENOMINA RUA JOSÉ LATARO UMA VIA PÚBLICA DO MU...   \n",
       "3  DENOMINA PRAÇA ROBERTO ANGELO CASTELLO UMA ÁRE...   \n",
       "4  DISPÕE SOBRE A GRATUIDADE POR ATÉ DUAS HORAS D...   \n",
       "\n",
       "                                               Texto  \n",
       "0  Art. I Q Fica declarada órgão de utilidade púb...  \n",
       "1  Art. I P Fica denominada Praça Zilda Mello Smi...  \n",
       "2  Art. 10 Fica denominada Rua José Lataro a Rua ...  \n",
       "3  Art. 1 0 Fica denominada Praça Roberto Angelo ...  \n",
       "4  Art. 1 0 Institui a gratuidade por até duas ho...  "
      ]
     },
     "execution_count": 3,
     "metadata": {},
     "output_type": "execute_result"
    }
   ],
   "source": [
    "df = pd.read_csv('PLO_2019_v5.csv', sep=';')\n",
    "df.head()"
   ]
  },
  {
   "cell_type": "code",
   "execution_count": 4,
   "id": "138cbc06-70f7-4393-8ba4-afb6d012c5b7",
   "metadata": {
    "tags": []
   },
   "outputs": [
    {
     "data": {
      "text/plain": [
       "Vereador    0\n",
       "Partido     0\n",
       "Aprovado    0\n",
       "Ementa      0\n",
       "Texto       0\n",
       "dtype: int64"
      ]
     },
     "execution_count": 4,
     "metadata": {},
     "output_type": "execute_result"
    }
   ],
   "source": [
    "# Verificando se base de dados tem valores ausentes\n",
    "df.isna().sum()"
   ]
  },
  {
   "cell_type": "code",
   "execution_count": 5,
   "id": "09bbbde4-e762-4f6b-82f3-832835d09212",
   "metadata": {
    "tags": []
   },
   "outputs": [
    {
     "name": "stdout",
     "output_type": "stream",
     "text": [
      "O tamanho do dataset é: (370, 5)\n"
     ]
    }
   ],
   "source": [
    "print('O tamanho do dataset é:', df.shape)"
   ]
  },
  {
   "cell_type": "code",
   "execution_count": 6,
   "id": "7a67754c-52b0-45e0-8d14-5949ad4079c2",
   "metadata": {
    "scrolled": true,
    "tags": []
   },
   "outputs": [
    {
     "data": {
      "text/plain": [
       "Aprovado\n",
       "não    189\n",
       "sim    181\n",
       "Name: count, dtype: int64"
      ]
     },
     "execution_count": 6,
     "metadata": {},
     "output_type": "execute_result"
    }
   ],
   "source": [
    "df['Aprovado'].value_counts()"
   ]
  },
  {
   "cell_type": "code",
   "execution_count": 7,
   "id": "69356086-26e3-4a48-889e-18a70242374c",
   "metadata": {
    "tags": []
   },
   "outputs": [
    {
     "data": {
      "image/png": "[encoded data removed]",
      "text/plain": [
       "<Figure size 500x300 with 1 Axes>"
      ]
     },
     "metadata": {},
     "output_type": "display_data"
    }
   ],
   "source": [
    "import matplotlib.pyplot as plt\n",
    "import seaborn as sns\n",
    "\n",
    "plt.figure(figsize=(5, 3))\n",
    "sns.countplot(data=df, x='Aprovado')\n",
    "plt.show()"
   ]
  },
  {
   "cell_type": "markdown",
   "id": "8f313f13-e94d-4cc9-99ad-269aeb9006ca",
   "metadata": {},
   "source": [
    "Nota-se que o resultado é bem balanceado"
   ]
  },
  {
   "cell_type": "code",
   "execution_count": 8,
   "id": "cffd08a9-65da-477b-81b7-6ca1bf731b9c",
   "metadata": {
    "scrolled": true,
    "tags": []
   },
   "outputs": [
    {
     "data": {
      "text/plain": [
       "Vereador\n",
       "Carmo Luiz                 41\n",
       "Prefeito Municipal         27\n",
       "Paulo Galterio             23\n",
       "Carlão do PT               21\n",
       "Luiz Rossini               20\n",
       "Marcelo Silva              17\n",
       "Jorge da Farmácia          14\n",
       "Nelson Hossri              14\n",
       "Marcos Bernardelli         14\n",
       "Zé Carlos                  14\n",
       "Luiz Cirilo                13\n",
       "Professor Alberto          11\n",
       "Paulo Haddad               11\n",
       "Tenente Santini            10\n",
       "Permínio Monteiro          10\n",
       "Pedro Tourinho             10\n",
       "Cidão Santos                9\n",
       "Filipe Marchesi             9\n",
       "Cláudio da Farmácia         7\n",
       "Gustavo Petta               7\n",
       "Jorge Schneider             7\n",
       "Rubens Gás                  7\n",
       "Fernando Mendes             7\n",
       "Pr. Elias Azevedo           7\n",
       "Gilberto Vermelho           6\n",
       "Juscelino da Barbarense     6\n",
       "Ailton da Farmácia          6\n",
       "Vinicius Gratti             5\n",
       "Jota Silva                  4\n",
       "Mesa da Câmara              2\n",
       "Mariana Conti               2\n",
       "Dr. Elcio Batista           2\n",
       "Campos Filho                2\n",
       "Aurélio Cláudio             2\n",
       "Rodrigo da Farmadic         2\n",
       "Guida Calixto               1\n",
       "Name: count, dtype: int64"
      ]
     },
     "execution_count": 8,
     "metadata": {},
     "output_type": "execute_result"
    }
   ],
   "source": [
    "df['Vereador'].value_counts()"
   ]
  },
  {
   "cell_type": "code",
   "execution_count": 9,
   "id": "1c74165b-265d-447f-8ea2-0bc977ecc3de",
   "metadata": {
    "scrolled": true,
    "tags": []
   },
   "outputs": [
    {
     "data": {
      "text/plain": [
       "<Axes: xlabel='count', ylabel='Vereador'>"
      ]
     },
     "execution_count": 9,
     "metadata": {},
     "output_type": "execute_result"
    },
    {
     "data": {
      "image/png": "[encoded data removed]",
      "text/plain": [
       "<Figure size 1000x600 with 1 Axes>"
      ]
     },
     "metadata": {},
     "output_type": "display_data"
    }
   ],
   "source": [
    "import seaborn as sns\n",
    "import matplotlib.pyplot as plt\n",
    "\n",
    "plt.figure(figsize=(10,6))\n",
    "sns.countplot(data=df, y='Vereador')"
   ]
  },
  {
   "cell_type": "markdown",
   "id": "efa44592-1709-4854-88cb-ed99a432878d",
   "metadata": {},
   "source": [
    "A análise exploratória dos dados já foi feito no Sprint 1, assim não repetiremos aqui"
   ]
  },
  {
   "cell_type": "markdown",
   "id": "08d6eddd-326b-401e-81c5-3233c6c2c444",
   "metadata": {},
   "source": [
    "##### Label Classes"
   ]
  },
  {
   "cell_type": "code",
   "execution_count": 10,
   "id": "5af3bf77-b379-443c-8c20-84d5c1c7b9d9",
   "metadata": {
    "tags": []
   },
   "outputs": [
    {
     "data": {
      "text/html": [
       "<style>#sk-container-id-1 {color: black;}#sk-container-id-1 pre{padding: 0;}#sk-container-id-1 div.sk-toggleable {background-color: white;}#sk-container-id-1 label.sk-toggleable__label {cursor: pointer;display: block;width: 100%;margin-bottom: 0;padding: 0.3em;box-sizing: border-box;text-align: center;}#sk-container-id-1 label.sk-toggleable__label-arrow:before {content: \"▸\";float: left;margin-right: 0.25em;color: #696969;}#sk-container-id-1 label.sk-toggleable__label-arrow:hover:before {color: black;}#sk-container-id-1 div.sk-estimator:hover label.sk-toggleable__label-arrow:before {color: black;}#sk-container-id-1 div.sk-toggleable__content {max-height: 0;max-width: 0;overflow: hidden;text-align: left;background-color: #f0f8ff;}#sk-container-id-1 div.sk-toggleable__content pre {margin: 0.2em;color: black;border-radius: 0.25em;background-color: #f0f8ff;}#sk-container-id-1 input.sk-toggleable__control:checked~div.sk-toggleable__content {max-height: 200px;max-width: 100%;overflow: auto;}#sk-container-id-1 input.sk-toggleable__control:checked~label.sk-toggleable__label-arrow:before {content: \"▾\";}#sk-container-id-1 div.sk-estimator input.sk-toggleable__control:checked~label.sk-toggleable__label {background-color: #d4ebff;}#sk-container-id-1 div.sk-label input.sk-toggleable__control:checked~label.sk-toggleable__label {background-color: #d4ebff;}#sk-container-id-1 input.sk-hidden--visually {border: 0;clip: rect(1px 1px 1px 1px);clip: rect(1px, 1px, 1px, 1px);height: 1px;margin: -1px;overflow: hidden;padding: 0;position: absolute;width: 1px;}#sk-container-id-1 div.sk-estimator {font-family: monospace;background-color: #f0f8ff;border: 1px dotted black;border-radius: 0.25em;box-sizing: border-box;margin-bottom: 0.5em;}#sk-container-id-1 div.sk-estimator:hover {background-color: #d4ebff;}#sk-container-id-1 div.sk-parallel-item::after {content: \"\";width: 100%;border-bottom: 1px solid gray;flex-grow: 1;}#sk-container-id-1 div.sk-label:hover label.sk-toggleable__label {background-color: #d4ebff;}#sk-container-id-1 div.sk-serial::before {content: \"\";position: absolute;border-left: 1px solid gray;box-sizing: border-box;top: 0;bottom: 0;left: 50%;z-index: 0;}#sk-container-id-1 div.sk-serial {display: flex;flex-direction: column;align-items: center;background-color: white;padding-right: 0.2em;padding-left: 0.2em;position: relative;}#sk-container-id-1 div.sk-item {position: relative;z-index: 1;}#sk-container-id-1 div.sk-parallel {display: flex;align-items: stretch;justify-content: center;background-color: white;position: relative;}#sk-container-id-1 div.sk-item::before, #sk-container-id-1 div.sk-parallel-item::before {content: \"\";position: absolute;border-left: 1px solid gray;box-sizing: border-box;top: 0;bottom: 0;left: 50%;z-index: -1;}#sk-container-id-1 div.sk-parallel-item {display: flex;flex-direction: column;z-index: 1;position: relative;background-color: white;}#sk-container-id-1 div.sk-parallel-item:first-child::after {align-self: flex-end;width: 50%;}#sk-container-id-1 div.sk-parallel-item:last-child::after {align-self: flex-start;width: 50%;}#sk-container-id-1 div.sk-parallel-item:only-child::after {width: 0;}#sk-container-id-1 div.sk-dashed-wrapped {border: 1px dashed gray;margin: 0 0.4em 0.5em 0.4em;box-sizing: border-box;padding-bottom: 0.4em;background-color: white;}#sk-container-id-1 div.sk-label label {font-family: monospace;font-weight: bold;display: inline-block;line-height: 1.2em;}#sk-container-id-1 div.sk-label-container {text-align: center;}#sk-container-id-1 div.sk-container {/* jupyter's `normalize.less` sets `[hidden] { display: none; }` but bootstrap.min.css set `[hidden] { display: none !important; }` so we also need the `!important` here to be able to override the default hidden behavior on the sphinx rendered scikit-learn.org. See: https://github.com/scikit-learn/scikit-learn/issues/21755 */display: inline-block !important;position: relative;}#sk-container-id-1 div.sk-text-repr-fallback {display: none;}</style><div id=\"sk-container-id-1\" class=\"sk-top-container\"><div class=\"sk-text-repr-fallback\"><pre>LabelEncoder()</pre><b>In a Jupyter environment, please rerun this cell to show the HTML representation or trust the notebook. <br />On GitHub, the HTML representation is unable to render, please try loading this page with nbviewer.org.</b></div><div class=\"sk-container\" hidden><div class=\"sk-item\"><div class=\"sk-estimator sk-toggleable\"><input class=\"sk-toggleable__control sk-hidden--visually\" id=\"sk-estimator-id-1\" type=\"checkbox\" checked><label for=\"sk-estimator-id-1\" class=\"sk-toggleable__label sk-toggleable__label-arrow\">LabelEncoder</label><div class=\"sk-toggleable__content\"><pre>LabelEncoder()</pre></div></div></div></div></div>"
      ],
      "text/plain": [
       "LabelEncoder()"
      ]
     },
     "execution_count": 10,
     "metadata": {},
     "output_type": "execute_result"
    }
   ],
   "source": [
    "from sklearn.preprocessing import LabelEncoder\n",
    "\n",
    "label_encoder = LabelEncoder()\n",
    "label_encoder.fit(df['Aprovado'])"
   ]
  },
  {
   "cell_type": "code",
   "execution_count": 11,
   "id": "5726c68e-b856-4ef5-8fff-c0a9060cd9f3",
   "metadata": {
    "tags": []
   },
   "outputs": [
    {
     "name": "stdout",
     "output_type": "stream",
     "text": [
      "Class labels\n",
      "não ==> 0\n",
      "sim ==> 1\n"
     ]
    }
   ],
   "source": [
    "print(f'Class labels')\n",
    "\n",
    "for label, class_ in enumerate(label_encoder.classes_):\n",
    "    print(f'{class_} ==> {label}')"
   ]
  },
  {
   "cell_type": "code",
   "execution_count": 12,
   "id": "9526d09f-cf4e-40ae-a74f-442b5f216095",
   "metadata": {
    "tags": []
   },
   "outputs": [],
   "source": [
    "df['Label'] = label_encoder.transform(df['Aprovado'])"
   ]
  },
  {
   "cell_type": "code",
   "execution_count": 13,
   "id": "bc73802a-916c-4ac6-a078-88446928823b",
   "metadata": {
    "scrolled": true,
    "tags": []
   },
   "outputs": [
    {
     "data": {
      "text/html": [
       "<div>\n",
       "<style scoped>\n",
       "    .dataframe tbody tr th:only-of-type {\n",
       "        vertical-align: middle;\n",
       "    }\n",
       "\n",
       "    .dataframe tbody tr th {\n",
       "        vertical-align: top;\n",
       "    }\n",
       "\n",
       "    .dataframe thead th {\n",
       "        text-align: right;\n",
       "    }\n",
       "</style>\n",
       "<table border=\"1\" class=\"dataframe\">\n",
       "  <thead>\n",
       "    <tr style=\"text-align: right;\">\n",
       "      <th></th>\n",
       "      <th>Vereador</th>\n",
       "      <th>Partido</th>\n",
       "      <th>Aprovado</th>\n",
       "      <th>Ementa</th>\n",
       "      <th>Texto</th>\n",
       "      <th>Label</th>\n",
       "    </tr>\n",
       "  </thead>\n",
       "  <tbody>\n",
       "    <tr>\n",
       "      <th>0</th>\n",
       "      <td>Ailton da Farmácia</td>\n",
       "      <td>PSD</td>\n",
       "      <td>sim</td>\n",
       "      <td>DECLARA ÓRGÃO DE UTILIDADE PÚBLICA MUNICIPAL A...</td>\n",
       "      <td>Art. I Q Fica declarada órgão de utilidade púb...</td>\n",
       "      <td>1</td>\n",
       "    </tr>\n",
       "    <tr>\n",
       "      <th>1</th>\n",
       "      <td>Ailton da Farmácia</td>\n",
       "      <td>PSD</td>\n",
       "      <td>sim</td>\n",
       "      <td>DENOMINA PRAÇA ZILDA MELLO SMILGYS UMA PRAÇA P...</td>\n",
       "      <td>Art. I P Fica denominada Praça Zilda Mello Smi...</td>\n",
       "      <td>1</td>\n",
       "    </tr>\n",
       "    <tr>\n",
       "      <th>2</th>\n",
       "      <td>Ailton da Farmácia</td>\n",
       "      <td>PSD</td>\n",
       "      <td>sim</td>\n",
       "      <td>DENOMINA RUA JOSÉ LATARO UMA VIA PÚBLICA DO MU...</td>\n",
       "      <td>Art. 10 Fica denominada Rua José Lataro a Rua ...</td>\n",
       "      <td>1</td>\n",
       "    </tr>\n",
       "    <tr>\n",
       "      <th>3</th>\n",
       "      <td>Ailton da Farmácia</td>\n",
       "      <td>PSD</td>\n",
       "      <td>sim</td>\n",
       "      <td>DENOMINA PRAÇA ROBERTO ANGELO CASTELLO UMA ÁRE...</td>\n",
       "      <td>Art. 1 0 Fica denominada Praça Roberto Angelo ...</td>\n",
       "      <td>1</td>\n",
       "    </tr>\n",
       "    <tr>\n",
       "      <th>4</th>\n",
       "      <td>Ailton da Farmácia</td>\n",
       "      <td>PSD</td>\n",
       "      <td>não</td>\n",
       "      <td>DISPÕE SOBRE A GRATUIDADE POR ATÉ DUAS HORAS D...</td>\n",
       "      <td>Art. 1 0 Institui a gratuidade por até duas ho...</td>\n",
       "      <td>0</td>\n",
       "    </tr>\n",
       "  </tbody>\n",
       "</table>\n",
       "</div>"
      ],
      "text/plain": [
       "             Vereador Partido Aprovado   \n",
       "0  Ailton da Farmácia     PSD      sim  \\\n",
       "1  Ailton da Farmácia     PSD      sim   \n",
       "2  Ailton da Farmácia     PSD      sim   \n",
       "3  Ailton da Farmácia     PSD      sim   \n",
       "4  Ailton da Farmácia     PSD      não   \n",
       "\n",
       "                                              Ementa   \n",
       "0  DECLARA ÓRGÃO DE UTILIDADE PÚBLICA MUNICIPAL A...  \\\n",
       "1  DENOMINA PRAÇA ZILDA MELLO SMILGYS UMA PRAÇA P...   \n",
       "2  DENOMINA RUA JOSÉ LATARO UMA VIA PÚBLICA DO MU...   \n",
       "3  DENOMINA PRAÇA ROBERTO ANGELO CASTELLO UMA ÁRE...   \n",
       "4  DISPÕE SOBRE A GRATUIDADE POR ATÉ DUAS HORAS D...   \n",
       "\n",
       "                                               Texto  Label  \n",
       "0  Art. I Q Fica declarada órgão de utilidade púb...      1  \n",
       "1  Art. I P Fica denominada Praça Zilda Mello Smi...      1  \n",
       "2  Art. 10 Fica denominada Rua José Lataro a Rua ...      1  \n",
       "3  Art. 1 0 Fica denominada Praça Roberto Angelo ...      1  \n",
       "4  Art. 1 0 Institui a gratuidade por até duas ho...      0  "
      ]
     },
     "execution_count": 13,
     "metadata": {},
     "output_type": "execute_result"
    }
   ],
   "source": [
    "df.head()"
   ]
  },
  {
   "cell_type": "code",
   "execution_count": 14,
   "id": "934894a3-d78f-420d-951b-e131dd70ce7f",
   "metadata": {
    "tags": []
   },
   "outputs": [
    {
     "name": "stdout",
     "output_type": "stream",
     "text": [
      "<class 'pandas.core.frame.DataFrame'>\n",
      "RangeIndex: 370 entries, 0 to 369\n",
      "Data columns (total 6 columns):\n",
      " #   Column    Non-Null Count  Dtype \n",
      "---  ------    --------------  ----- \n",
      " 0   Vereador  370 non-null    object\n",
      " 1   Partido   370 non-null    object\n",
      " 2   Aprovado  370 non-null    object\n",
      " 3   Ementa    370 non-null    object\n",
      " 4   Texto     370 non-null    object\n",
      " 5   Label     370 non-null    int32 \n",
      "dtypes: int32(1), object(5)\n",
      "memory usage: 16.0+ KB\n"
     ]
    }
   ],
   "source": [
    "df.info()"
   ]
  },
  {
   "cell_type": "markdown",
   "id": "cb2fe3f8-0b88-43de-940a-c9f319fab834",
   "metadata": {},
   "source": [
    "### 2. Pré-Processamento de texto: "
   ]
  },
  {
   "cell_type": "markdown",
   "id": "b8641e8d-ea83-4ca6-9845-7f78e651efc6",
   "metadata": {},
   "source": [
    "##### Remoção inicial de algumas das palavras irrelevantes, lemmatizaton, nos dados de texto, utilizando a bilioteca SpaCy"
   ]
  },
  {
   "cell_type": "code",
   "execution_count": 16,
   "id": "8ca554f6-068f-47a5-8705-285098e7cd1a",
   "metadata": {
    "tags": []
   },
   "outputs": [
    {
     "name": "stdout",
     "output_type": "stream",
     "text": [
      "Collecting pt-core-news-sm==3.5.0\n",
      "  Downloading https://github.com/explosion/spacy-models/releases/download/pt_core_news_sm-3.5.0/pt_core_news_sm-3.5.0-py3-none-any.whl (13.0 MB)\n",
      "     ---------------------------------------- 0.0/13.0 MB ? eta -:--:--\n",
      "     - -------------------------------------- 0.5/13.0 MB 10.9 MB/s eta 0:00:02\n",
      "     --- ------------------------------------ 1.1/13.0 MB 11.9 MB/s eta 0:00:01\n",
      "     ----- ---------------------------------- 1.9/13.0 MB 13.7 MB/s eta 0:00:01\n",
      "     -------- ------------------------------- 2.8/13.0 MB 14.8 MB/s eta 0:00:01\n",
      "     ---------- ----------------------------- 3.5/13.0 MB 14.9 MB/s eta 0:00:01\n",
      "     ------------- -------------------------- 4.4/13.0 MB 14.9 MB/s eta 0:00:01\n",
      "     ---------------- ----------------------- 5.3/13.0 MB 15.4 MB/s eta 0:00:01\n",
      "     ------------------- -------------------- 6.4/13.0 MB 15.7 MB/s eta 0:00:01\n",
      "     ---------------------- ----------------- 7.4/13.0 MB 15.7 MB/s eta 0:00:01\n",
      "     ------------------------- -------------- 8.2/13.0 MB 15.9 MB/s eta 0:00:01\n",
      "     ---------------------------- ----------- 9.3/13.0 MB 16.6 MB/s eta 0:00:01\n",
      "     ------------------------------ -------- 10.1/13.0 MB 16.5 MB/s eta 0:00:01\n",
      "     --------------------------------- ----- 11.0/13.0 MB 17.3 MB/s eta 0:00:01\n",
      "     ------------------------------------ -- 12.2/13.0 MB 18.2 MB/s eta 0:00:01\n",
      "     --------------------------------------  13.0/13.0 MB 18.7 MB/s eta 0:00:01\n",
      "     --------------------------------------  13.0/13.0 MB 18.7 MB/s eta 0:00:01\n",
      "     --------------------------------------- 13.0/13.0 MB 15.2 MB/s eta 0:00:00\n",
      "Requirement already satisfied: spacy<3.6.0,>=3.5.0 in c:\\users\\swift\\appdata\\local\\programs\\python\\python311\\lib\\site-packages (from pt-core-news-sm==3.5.0) (3.5.3)\n",
      "Requirement already satisfied: spacy-legacy<3.1.0,>=3.0.11 in c:\\users\\swift\\appdata\\local\\programs\\python\\python311\\lib\\site-packages (from spacy<3.6.0,>=3.5.0->pt-core-news-sm==3.5.0) (3.0.12)\n",
      "Requirement already satisfied: spacy-loggers<2.0.0,>=1.0.0 in c:\\users\\swift\\appdata\\local\\programs\\python\\python311\\lib\\site-packages (from spacy<3.6.0,>=3.5.0->pt-core-news-sm==3.5.0) (1.0.4)\n",
      "Requirement already satisfied: murmurhash<1.1.0,>=0.28.0 in c:\\users\\swift\\appdata\\local\\programs\\python\\python311\\lib\\site-packages (from spacy<3.6.0,>=3.5.0->pt-core-news-sm==3.5.0) (1.0.9)\n",
      "Requirement already satisfied: cymem<2.1.0,>=2.0.2 in c:\\users\\swift\\appdata\\local\\programs\\python\\python311\\lib\\site-packages (from spacy<3.6.0,>=3.5.0->pt-core-news-sm==3.5.0) (2.0.7)\n",
      "Requirement already satisfied: preshed<3.1.0,>=3.0.2 in c:\\users\\swift\\appdata\\local\\programs\\python\\python311\\lib\\site-packages (from spacy<3.6.0,>=3.5.0->pt-core-news-sm==3.5.0) (3.0.8)\n",
      "Requirement already satisfied: thinc<8.2.0,>=8.1.8 in c:\\users\\swift\\appdata\\local\\programs\\python\\python311\\lib\\site-packages (from spacy<3.6.0,>=3.5.0->pt-core-news-sm==3.5.0) (8.1.10)\n",
      "Requirement already satisfied: wasabi<1.2.0,>=0.9.1 in c:\\users\\swift\\appdata\\local\\programs\\python\\python311\\lib\\site-packages (from spacy<3.6.0,>=3.5.0->pt-core-news-sm==3.5.0) (1.1.1)\n",
      "Requirement already satisfied: srsly<3.0.0,>=2.4.3 in c:\\users\\swift\\appdata\\local\\programs\\python\\python311\\lib\\site-packages (from spacy<3.6.0,>=3.5.0->pt-core-news-sm==3.5.0) (2.4.6)\n",
      "Requirement already satisfied: catalogue<2.1.0,>=2.0.6 in c:\\users\\swift\\appdata\\local\\programs\\python\\python311\\lib\\site-packages (from spacy<3.6.0,>=3.5.0->pt-core-news-sm==3.5.0) (2.0.8)\n",
      "Requirement already satisfied: typer<0.8.0,>=0.3.0 in c:\\users\\swift\\appdata\\local\\programs\\python\\python311\\lib\\site-packages (from spacy<3.6.0,>=3.5.0->pt-core-news-sm==3.5.0) (0.7.0)\n",
      "Requirement already satisfied: pathy>=0.10.0 in c:\\users\\swift\\appdata\\local\\programs\\python\\python311\\lib\\site-packages (from spacy<3.6.0,>=3.5.0->pt-core-news-sm==3.5.0) (0.10.1)\n",
      "Requirement already satisfied: smart-open<7.0.0,>=5.2.1 in c:\\users\\swift\\appdata\\local\\programs\\python\\python311\\lib\\site-packages (from spacy<3.6.0,>=3.5.0->pt-core-news-sm==3.5.0) (6.3.0)\n",
      "Requirement already satisfied: tqdm<5.0.0,>=4.38.0 in c:\\users\\swift\\appdata\\local\\programs\\python\\python311\\lib\\site-packages (from spacy<3.6.0,>=3.5.0->pt-core-news-sm==3.5.0) (4.65.0)\n",
      "Requirement already satisfied: numpy>=1.15.0 in c:\\users\\swift\\appdata\\local\\programs\\python\\python311\\lib\\site-packages (from spacy<3.6.0,>=3.5.0->pt-core-news-sm==3.5.0) (1.23.5)\n",
      "Requirement already satisfied: requests<3.0.0,>=2.13.0 in c:\\users\\swift\\appdata\\local\\programs\\python\\python311\\lib\\site-packages (from spacy<3.6.0,>=3.5.0->pt-core-news-sm==3.5.0) (2.31.0)\n",
      "Requirement already satisfied: pydantic!=1.8,!=1.8.1,<1.11.0,>=1.7.4 in c:\\users\\swift\\appdata\\local\\programs\\python\\python311\\lib\\site-packages (from spacy<3.6.0,>=3.5.0->pt-core-news-sm==3.5.0) (1.10.8)\n",
      "Requirement already satisfied: jinja2 in c:\\users\\swift\\appdata\\local\\programs\\python\\python311\\lib\\site-packages (from spacy<3.6.0,>=3.5.0->pt-core-news-sm==3.5.0) (3.1.2)\n",
      "Requirement already satisfied: setuptools in c:\\users\\swift\\appdata\\local\\programs\\python\\python311\\lib\\site-packages (from spacy<3.6.0,>=3.5.0->pt-core-news-sm==3.5.0) (65.5.0)\n",
      "Requirement already satisfied: packaging>=20.0 in c:\\users\\swift\\appdata\\local\\programs\\python\\python311\\lib\\site-packages (from spacy<3.6.0,>=3.5.0->pt-core-news-sm==3.5.0) (23.1)\n",
      "Requirement already satisfied: langcodes<4.0.0,>=3.2.0 in c:\\users\\swift\\appdata\\local\\programs\\python\\python311\\lib\\site-packages (from spacy<3.6.0,>=3.5.0->pt-core-news-sm==3.5.0) (3.3.0)\n",
      "Requirement already satisfied: typing-extensions>=4.2.0 in c:\\users\\swift\\appdata\\local\\programs\\python\\python311\\lib\\site-packages (from pydantic!=1.8,!=1.8.1,<1.11.0,>=1.7.4->spacy<3.6.0,>=3.5.0->pt-core-news-sm==3.5.0) (4.5.0)\n",
      "Requirement already satisfied: charset-normalizer<4,>=2 in c:\\users\\swift\\appdata\\local\\programs\\python\\python311\\lib\\site-packages (from requests<3.0.0,>=2.13.0->spacy<3.6.0,>=3.5.0->pt-core-news-sm==3.5.0) (3.1.0)\n",
      "Requirement already satisfied: idna<4,>=2.5 in c:\\users\\swift\\appdata\\local\\programs\\python\\python311\\lib\\site-packages (from requests<3.0.0,>=2.13.0->spacy<3.6.0,>=3.5.0->pt-core-news-sm==3.5.0) (3.4)\n",
      "Requirement already satisfied: urllib3<3,>=1.21.1 in c:\\users\\swift\\appdata\\local\\programs\\python\\python311\\lib\\site-packages (from requests<3.0.0,>=2.13.0->spacy<3.6.0,>=3.5.0->pt-core-news-sm==3.5.0) (1.26.16)\n",
      "Requirement already satisfied: certifi>=2017.4.17 in c:\\users\\swift\\appdata\\local\\programs\\python\\python311\\lib\\site-packages (from requests<3.0.0,>=2.13.0->spacy<3.6.0,>=3.5.0->pt-core-news-sm==3.5.0) (2023.5.7)\n",
      "Requirement already satisfied: blis<0.8.0,>=0.7.8 in c:\\users\\swift\\appdata\\local\\programs\\python\\python311\\lib\\site-packages (from thinc<8.2.0,>=8.1.8->spacy<3.6.0,>=3.5.0->pt-core-news-sm==3.5.0) (0.7.9)\n",
      "Requirement already satisfied: confection<1.0.0,>=0.0.1 in c:\\users\\swift\\appdata\\local\\programs\\python\\python311\\lib\\site-packages (from thinc<8.2.0,>=8.1.8->spacy<3.6.0,>=3.5.0->pt-core-news-sm==3.5.0) (0.0.4)\n",
      "Requirement already satisfied: colorama in c:\\users\\swift\\appdata\\local\\programs\\python\\python311\\lib\\site-packages (from tqdm<5.0.0,>=4.38.0->spacy<3.6.0,>=3.5.0->pt-core-news-sm==3.5.0) (0.4.6)\n",
      "Requirement already satisfied: click<9.0.0,>=7.1.1 in c:\\users\\swift\\appdata\\local\\programs\\python\\python311\\lib\\site-packages (from typer<0.8.0,>=0.3.0->spacy<3.6.0,>=3.5.0->pt-core-news-sm==3.5.0) (8.1.3)\n",
      "Requirement already satisfied: MarkupSafe>=2.0 in c:\\users\\swift\\appdata\\local\\programs\\python\\python311\\lib\\site-packages (from jinja2->spacy<3.6.0,>=3.5.0->pt-core-news-sm==3.5.0) (2.1.2)\n",
      "\u001b[38;5;2m[+] Download and installation successful\u001b[0m\n",
      "You can now load the package via spacy.load('pt_core_news_sm')\n"
     ]
    }
   ],
   "source": [
    "#!pip install spacy\n",
    "# PLOs são em português, utilizar biblioteca em português\n",
    "!python -m spacy download pt_core_news_sm  "
   ]
  },
  {
   "cell_type": "code",
   "execution_count": 17,
   "id": "1815769e-b6e5-440b-b8b4-d24c54a3d402",
   "metadata": {
    "tags": []
   },
   "outputs": [],
   "source": [
    "import spacy\n",
    "from spacy.lang.pt.stop_words import STOP_WORDS\n",
    "from spacy.lang.pt import Portuguese\n",
    "nlp = Portuguese()"
   ]
  },
  {
   "cell_type": "code",
   "execution_count": 18,
   "id": "ab15c7d6-b7ab-47ca-8ea0-671db40fffe1",
   "metadata": {
    "tags": []
   },
   "outputs": [],
   "source": [
    "nlp_spacy = spacy.load(\"pt_core_news_sm\")   # Portuguese small vocabulary"
   ]
  },
  {
   "cell_type": "code",
   "execution_count": 19,
   "id": "af125997-e2ef-4d1b-b97d-431c06dd37b6",
   "metadata": {
    "tags": []
   },
   "outputs": [],
   "source": [
    "def remove_stopwords(doc: spacy.tokens.doc.Doc) -> list:\n",
    "    tokens_without_stopwords = [token.text for token in doc if not token.is_stop]\n",
    "    text_without_stopwords = ' '.join(tokens_without_stopwords)\n",
    "    return text_without_stopwords"
   ]
  },
  {
   "cell_type": "code",
   "execution_count": 20,
   "id": "c548983b-4a58-4d7d-8ce6-f91b1f23dcf0",
   "metadata": {
    "tags": []
   },
   "outputs": [],
   "source": [
    "import re\n",
    "def process_text(texts):\n",
    "    final_text_list=[]\n",
    "    for sent in texts:\n",
    "        sent = sent.lower() # Lowercase \n",
    "        sent = sent.strip() # Remove leading/trailing whitespace\n",
    "        sent = re.sub('\\s+', ' ', sent) # Remove extra space and tabs\n",
    "        sent = re.sub('[^\\w\\s]', '', sent)  # Remove punctuations\n",
    "        sent = re.compile('<.*?>').sub('', sent) # Remove HTML tags/markups:\n",
    "        filtered_sentence=[]\n",
    "        sent1 = nlp(sent)\n",
    "        sent2 = remove_stopwords(sent1)\n",
    "        filtered_sentence.append(sent2)\n",
    "        final_string = \" \".join(filtered_sentence) # Final string of cleaned words\n",
    "        final_text_list.append(final_string)\n",
    "    return final_text_list"
   ]
  },
  {
   "cell_type": "code",
   "execution_count": 21,
   "id": "62904090-8e0e-4064-83c8-0aa01e32fab8",
   "metadata": {
    "scrolled": true,
    "tags": []
   },
   "outputs": [
    {
     "data": {
      "text/html": [
       "<div>\n",
       "<style scoped>\n",
       "    .dataframe tbody tr th:only-of-type {\n",
       "        vertical-align: middle;\n",
       "    }\n",
       "\n",
       "    .dataframe tbody tr th {\n",
       "        vertical-align: top;\n",
       "    }\n",
       "\n",
       "    .dataframe thead th {\n",
       "        text-align: right;\n",
       "    }\n",
       "</style>\n",
       "<table border=\"1\" class=\"dataframe\">\n",
       "  <thead>\n",
       "    <tr style=\"text-align: right;\">\n",
       "      <th></th>\n",
       "      <th>Vereador</th>\n",
       "      <th>Partido</th>\n",
       "      <th>Aprovado</th>\n",
       "      <th>Ementa</th>\n",
       "      <th>Texto</th>\n",
       "      <th>Label</th>\n",
       "    </tr>\n",
       "  </thead>\n",
       "  <tbody>\n",
       "    <tr>\n",
       "      <th>0</th>\n",
       "      <td>Ailton da Farmácia</td>\n",
       "      <td>PSD</td>\n",
       "      <td>sim</td>\n",
       "      <td>DECLARA ÓRGÃO DE UTILIDADE PÚBLICA MUNICIPAL A...</td>\n",
       "      <td>Art. I Q Fica declarada órgão de utilidade púb...</td>\n",
       "      <td>1</td>\n",
       "    </tr>\n",
       "    <tr>\n",
       "      <th>1</th>\n",
       "      <td>Ailton da Farmácia</td>\n",
       "      <td>PSD</td>\n",
       "      <td>sim</td>\n",
       "      <td>DENOMINA PRAÇA ZILDA MELLO SMILGYS UMA PRAÇA P...</td>\n",
       "      <td>Art. I P Fica denominada Praça Zilda Mello Smi...</td>\n",
       "      <td>1</td>\n",
       "    </tr>\n",
       "    <tr>\n",
       "      <th>2</th>\n",
       "      <td>Ailton da Farmácia</td>\n",
       "      <td>PSD</td>\n",
       "      <td>sim</td>\n",
       "      <td>DENOMINA RUA JOSÉ LATARO UMA VIA PÚBLICA DO MU...</td>\n",
       "      <td>Art. 10 Fica denominada Rua José Lataro a Rua ...</td>\n",
       "      <td>1</td>\n",
       "    </tr>\n",
       "    <tr>\n",
       "      <th>3</th>\n",
       "      <td>Ailton da Farmácia</td>\n",
       "      <td>PSD</td>\n",
       "      <td>sim</td>\n",
       "      <td>DENOMINA PRAÇA ROBERTO ANGELO CASTELLO UMA ÁRE...</td>\n",
       "      <td>Art. 1 0 Fica denominada Praça Roberto Angelo ...</td>\n",
       "      <td>1</td>\n",
       "    </tr>\n",
       "    <tr>\n",
       "      <th>4</th>\n",
       "      <td>Ailton da Farmácia</td>\n",
       "      <td>PSD</td>\n",
       "      <td>não</td>\n",
       "      <td>DISPÕE SOBRE A GRATUIDADE POR ATÉ DUAS HORAS D...</td>\n",
       "      <td>Art. 1 0 Institui a gratuidade por até duas ho...</td>\n",
       "      <td>0</td>\n",
       "    </tr>\n",
       "    <tr>\n",
       "      <th>...</th>\n",
       "      <td>...</td>\n",
       "      <td>...</td>\n",
       "      <td>...</td>\n",
       "      <td>...</td>\n",
       "      <td>...</td>\n",
       "      <td>...</td>\n",
       "    </tr>\n",
       "    <tr>\n",
       "      <th>365</th>\n",
       "      <td>Zé Carlos</td>\n",
       "      <td>PSB</td>\n",
       "      <td>sim</td>\n",
       "      <td>INSTITUI A SEMANA DOS ESPORTES ELETRÔNICOS PLA...</td>\n",
       "      <td>Art. I P Fica instituída a Semana dos Esportes...</td>\n",
       "      <td>1</td>\n",
       "    </tr>\n",
       "    <tr>\n",
       "      <th>366</th>\n",
       "      <td>Zé Carlos</td>\n",
       "      <td>PSB</td>\n",
       "      <td>sim</td>\n",
       "      <td>DENOMINA PRAÇA ANTONIO ALEXANDRE SOBRINHO UM S...</td>\n",
       "      <td>Art. 1 0 Fica denominado Praça Antonio Alexand...</td>\n",
       "      <td>1</td>\n",
       "    </tr>\n",
       "    <tr>\n",
       "      <th>367</th>\n",
       "      <td>Zé Carlos</td>\n",
       "      <td>PSB</td>\n",
       "      <td>não</td>\n",
       "      <td>DISPÕE SOBRE O PARCELAMENTO DO IMPOSTO SOBRE A...</td>\n",
       "      <td>Art. 10 A critério da Secretaria Municipal de ...</td>\n",
       "      <td>0</td>\n",
       "    </tr>\n",
       "    <tr>\n",
       "      <th>368</th>\n",
       "      <td>Zé Carlos</td>\n",
       "      <td>PSB</td>\n",
       "      <td>não</td>\n",
       "      <td>ALTERA, SUPRIME E ACRESCENTA DISPOSITIVOS NA L...</td>\n",
       "      <td>Art. I Q Fica alterado o inciso IV do S 2 2, f...</td>\n",
       "      <td>0</td>\n",
       "    </tr>\n",
       "    <tr>\n",
       "      <th>369</th>\n",
       "      <td>Zé Carlos</td>\n",
       "      <td>PSB</td>\n",
       "      <td>sim</td>\n",
       "      <td>DENOMINA PRAÇA SUBTENENTE GIOVANI JOSÉ TIVELLI...</td>\n",
       "      <td>Art. 1 0 Fica denominado Praça Subtenente Giov...</td>\n",
       "      <td>1</td>\n",
       "    </tr>\n",
       "  </tbody>\n",
       "</table>\n",
       "<p>370 rows × 6 columns</p>\n",
       "</div>"
      ],
      "text/plain": [
       "               Vereador Partido Aprovado   \n",
       "0    Ailton da Farmácia     PSD      sim  \\\n",
       "1    Ailton da Farmácia     PSD      sim   \n",
       "2    Ailton da Farmácia     PSD      sim   \n",
       "3    Ailton da Farmácia     PSD      sim   \n",
       "4    Ailton da Farmácia     PSD      não   \n",
       "..                  ...     ...      ...   \n",
       "365           Zé Carlos     PSB      sim   \n",
       "366           Zé Carlos     PSB      sim   \n",
       "367           Zé Carlos     PSB      não   \n",
       "368           Zé Carlos     PSB      não   \n",
       "369           Zé Carlos     PSB      sim   \n",
       "\n",
       "                                                Ementa   \n",
       "0    DECLARA ÓRGÃO DE UTILIDADE PÚBLICA MUNICIPAL A...  \\\n",
       "1    DENOMINA PRAÇA ZILDA MELLO SMILGYS UMA PRAÇA P...   \n",
       "2    DENOMINA RUA JOSÉ LATARO UMA VIA PÚBLICA DO MU...   \n",
       "3    DENOMINA PRAÇA ROBERTO ANGELO CASTELLO UMA ÁRE...   \n",
       "4    DISPÕE SOBRE A GRATUIDADE POR ATÉ DUAS HORAS D...   \n",
       "..                                                 ...   \n",
       "365  INSTITUI A SEMANA DOS ESPORTES ELETRÔNICOS PLA...   \n",
       "366  DENOMINA PRAÇA ANTONIO ALEXANDRE SOBRINHO UM S...   \n",
       "367  DISPÕE SOBRE O PARCELAMENTO DO IMPOSTO SOBRE A...   \n",
       "368  ALTERA, SUPRIME E ACRESCENTA DISPOSITIVOS NA L...   \n",
       "369  DENOMINA PRAÇA SUBTENENTE GIOVANI JOSÉ TIVELLI...   \n",
       "\n",
       "                                                 Texto  Label  \n",
       "0    Art. I Q Fica declarada órgão de utilidade púb...      1  \n",
       "1    Art. I P Fica denominada Praça Zilda Mello Smi...      1  \n",
       "2    Art. 10 Fica denominada Rua José Lataro a Rua ...      1  \n",
       "3    Art. 1 0 Fica denominada Praça Roberto Angelo ...      1  \n",
       "4    Art. 1 0 Institui a gratuidade por até duas ho...      0  \n",
       "..                                                 ...    ...  \n",
       "365  Art. I P Fica instituída a Semana dos Esportes...      1  \n",
       "366  Art. 1 0 Fica denominado Praça Antonio Alexand...      1  \n",
       "367  Art. 10 A critério da Secretaria Municipal de ...      0  \n",
       "368  Art. I Q Fica alterado o inciso IV do S 2 2, f...      0  \n",
       "369  Art. 1 0 Fica denominado Praça Subtenente Giov...      1  \n",
       "\n",
       "[370 rows x 6 columns]"
      ]
     },
     "execution_count": 21,
     "metadata": {},
     "output_type": "execute_result"
    }
   ],
   "source": [
    "df"
   ]
  },
  {
   "cell_type": "code",
   "execution_count": 22,
   "id": "11709a2e-a6d2-49d9-b8b7-53ad4463c054",
   "metadata": {
    "tags": []
   },
   "outputs": [
    {
     "name": "stdout",
     "output_type": "stream",
     "text": [
      "Processando a coluna Texto\n"
     ]
    }
   ],
   "source": [
    "print('Processando a coluna Texto')\n",
    "df['Texto'] = process_text(df['Texto'].tolist())"
   ]
  },
  {
   "cell_type": "code",
   "execution_count": 23,
   "id": "c9fa340f-b997-4ea8-9e0b-1af9d82e8942",
   "metadata": {
    "tags": []
   },
   "outputs": [
    {
     "name": "stdout",
     "output_type": "stream",
     "text": [
      "Processando a coluna Ementa\n"
     ]
    }
   ],
   "source": [
    "print('Processando a coluna Ementa')\n",
    "df['Ementa'] = process_text(df['Ementa'].tolist())"
   ]
  },
  {
   "cell_type": "code",
   "execution_count": 24,
   "id": "bf9328d7-3a35-434d-8531-f519f81131e4",
   "metadata": {
    "scrolled": true,
    "tags": []
   },
   "outputs": [
    {
     "data": {
      "text/html": [
       "<div>\n",
       "<style scoped>\n",
       "    .dataframe tbody tr th:only-of-type {\n",
       "        vertical-align: middle;\n",
       "    }\n",
       "\n",
       "    .dataframe tbody tr th {\n",
       "        vertical-align: top;\n",
       "    }\n",
       "\n",
       "    .dataframe thead th {\n",
       "        text-align: right;\n",
       "    }\n",
       "</style>\n",
       "<table border=\"1\" class=\"dataframe\">\n",
       "  <thead>\n",
       "    <tr style=\"text-align: right;\">\n",
       "      <th></th>\n",
       "      <th>Vereador</th>\n",
       "      <th>Partido</th>\n",
       "      <th>Aprovado</th>\n",
       "      <th>Ementa</th>\n",
       "      <th>Texto</th>\n",
       "      <th>Label</th>\n",
       "    </tr>\n",
       "  </thead>\n",
       "  <tbody>\n",
       "    <tr>\n",
       "      <th>0</th>\n",
       "      <td>Ailton da Farmácia</td>\n",
       "      <td>PSD</td>\n",
       "      <td>sim</td>\n",
       "      <td>declara órgão utilidade pública municipal adra...</td>\n",
       "      <td>art i q fica declarada órgão utilidade pública...</td>\n",
       "      <td>1</td>\n",
       "    </tr>\n",
       "    <tr>\n",
       "      <th>1</th>\n",
       "      <td>Ailton da Farmácia</td>\n",
       "      <td>PSD</td>\n",
       "      <td>sim</td>\n",
       "      <td>denomina praça zilda mello smilgys praça públi...</td>\n",
       "      <td>art i p fica denominada praça zilda mello smil...</td>\n",
       "      <td>1</td>\n",
       "    </tr>\n",
       "    <tr>\n",
       "      <th>2</th>\n",
       "      <td>Ailton da Farmácia</td>\n",
       "      <td>PSD</td>\n",
       "      <td>sim</td>\n",
       "      <td>denomina rua josé lataro via pública município...</td>\n",
       "      <td>art 10 fica denominada rua josé lataro rua 01 ...</td>\n",
       "      <td>1</td>\n",
       "    </tr>\n",
       "    <tr>\n",
       "      <th>3</th>\n",
       "      <td>Ailton da Farmácia</td>\n",
       "      <td>PSD</td>\n",
       "      <td>sim</td>\n",
       "      <td>denomina praça roberto angelo castello pública...</td>\n",
       "      <td>art 1 0 fica denominada praça roberto angelo c...</td>\n",
       "      <td>1</td>\n",
       "    </tr>\n",
       "    <tr>\n",
       "      <th>4</th>\n",
       "      <td>Ailton da Farmácia</td>\n",
       "      <td>PSD</td>\n",
       "      <td>não</td>\n",
       "      <td>dispõe gratuidade horas estacionamento espaços...</td>\n",
       "      <td>art 1 0 institui gratuidade horas estacionamen...</td>\n",
       "      <td>0</td>\n",
       "    </tr>\n",
       "    <tr>\n",
       "      <th>...</th>\n",
       "      <td>...</td>\n",
       "      <td>...</td>\n",
       "      <td>...</td>\n",
       "      <td>...</td>\n",
       "      <td>...</td>\n",
       "      <td>...</td>\n",
       "    </tr>\n",
       "    <tr>\n",
       "      <th>365</th>\n",
       "      <td>Zé Carlos</td>\n",
       "      <td>PSB</td>\n",
       "      <td>sim</td>\n",
       "      <td>institui semana esportes eletrônicos play hard...</td>\n",
       "      <td>art i p fica instituída semana esportes eletrô...</td>\n",
       "      <td>1</td>\n",
       "    </tr>\n",
       "    <tr>\n",
       "      <th>366</th>\n",
       "      <td>Zé Carlos</td>\n",
       "      <td>PSB</td>\n",
       "      <td>sim</td>\n",
       "      <td>denomina praça antonio alexandre sobrinho recr...</td>\n",
       "      <td>art 1 0 fica denominado praça antonio alexandr...</td>\n",
       "      <td>1</td>\n",
       "    </tr>\n",
       "    <tr>\n",
       "      <th>367</th>\n",
       "      <td>Zé Carlos</td>\n",
       "      <td>PSB</td>\n",
       "      <td>não</td>\n",
       "      <td>dispõe parcelamento imposto transmissão bens i...</td>\n",
       "      <td>art 10 critério secretaria municipal finanças ...</td>\n",
       "      <td>0</td>\n",
       "    </tr>\n",
       "    <tr>\n",
       "      <th>368</th>\n",
       "      <td>Zé Carlos</td>\n",
       "      <td>PSB</td>\n",
       "      <td>não</td>\n",
       "      <td>altera suprime acrescenta dispositivos lei nº ...</td>\n",
       "      <td>art i q fica alterado inciso iv s 2 2 fica sup...</td>\n",
       "      <td>0</td>\n",
       "    </tr>\n",
       "    <tr>\n",
       "      <th>369</th>\n",
       "      <td>Zé Carlos</td>\n",
       "      <td>PSB</td>\n",
       "      <td>sim</td>\n",
       "      <td>denomina praça subtenente giovani josé tivelli...</td>\n",
       "      <td>art 1 0 fica denominado praça subtenente giova...</td>\n",
       "      <td>1</td>\n",
       "    </tr>\n",
       "  </tbody>\n",
       "</table>\n",
       "<p>370 rows × 6 columns</p>\n",
       "</div>"
      ],
      "text/plain": [
       "               Vereador Partido Aprovado   \n",
       "0    Ailton da Farmácia     PSD      sim  \\\n",
       "1    Ailton da Farmácia     PSD      sim   \n",
       "2    Ailton da Farmácia     PSD      sim   \n",
       "3    Ailton da Farmácia     PSD      sim   \n",
       "4    Ailton da Farmácia     PSD      não   \n",
       "..                  ...     ...      ...   \n",
       "365           Zé Carlos     PSB      sim   \n",
       "366           Zé Carlos     PSB      sim   \n",
       "367           Zé Carlos     PSB      não   \n",
       "368           Zé Carlos     PSB      não   \n",
       "369           Zé Carlos     PSB      sim   \n",
       "\n",
       "                                                Ementa   \n",
       "0    declara órgão utilidade pública municipal adra...  \\\n",
       "1    denomina praça zilda mello smilgys praça públi...   \n",
       "2    denomina rua josé lataro via pública município...   \n",
       "3    denomina praça roberto angelo castello pública...   \n",
       "4    dispõe gratuidade horas estacionamento espaços...   \n",
       "..                                                 ...   \n",
       "365  institui semana esportes eletrônicos play hard...   \n",
       "366  denomina praça antonio alexandre sobrinho recr...   \n",
       "367  dispõe parcelamento imposto transmissão bens i...   \n",
       "368  altera suprime acrescenta dispositivos lei nº ...   \n",
       "369  denomina praça subtenente giovani josé tivelli...   \n",
       "\n",
       "                                                 Texto  Label  \n",
       "0    art i q fica declarada órgão utilidade pública...      1  \n",
       "1    art i p fica denominada praça zilda mello smil...      1  \n",
       "2    art 10 fica denominada rua josé lataro rua 01 ...      1  \n",
       "3    art 1 0 fica denominada praça roberto angelo c...      1  \n",
       "4    art 1 0 institui gratuidade horas estacionamen...      0  \n",
       "..                                                 ...    ...  \n",
       "365  art i p fica instituída semana esportes eletrô...      1  \n",
       "366  art 1 0 fica denominado praça antonio alexandr...      1  \n",
       "367  art 10 critério secretaria municipal finanças ...      0  \n",
       "368  art i q fica alterado inciso iv s 2 2 fica sup...      0  \n",
       "369  art 1 0 fica denominado praça subtenente giova...      1  \n",
       "\n",
       "[370 rows x 6 columns]"
      ]
     },
     "execution_count": 24,
     "metadata": {},
     "output_type": "execute_result"
    }
   ],
   "source": [
    "df"
   ]
  },
  {
   "cell_type": "markdown",
   "id": "7e633bff-5f03-4fce-a11d-1813263331fd",
   "metadata": {},
   "source": [
    "##### Divisão dos dados para treinamento e teste"
   ]
  },
  {
   "cell_type": "code",
   "execution_count": 51,
   "id": "dda323f2-935f-448b-911a-f7cb9885320a",
   "metadata": {
    "tags": []
   },
   "outputs": [],
   "source": [
    "from sklearn.model_selection import train_test_split\n",
    "# alteração do test_size para 0.3\n",
    "df_train, df_test = train_test_split(df, test_size=0.3, stratify=df['Label'], random_state=42)"
   ]
  },
  {
   "cell_type": "code",
   "execution_count": 52,
   "id": "35aa1c17-0660-42af-b600-57ad70dc5d99",
   "metadata": {
    "tags": []
   },
   "outputs": [
    {
     "name": "stdout",
     "output_type": "stream",
     "text": [
      "===> TRAIN\n",
      "Label\n",
      "0    0.509653\n",
      "1    0.490347\n",
      "Name: count, dtype: float64\n",
      "\n",
      "===> TEST\n",
      "Label\n",
      "0    0.513514\n",
      "1    0.486486\n",
      "Name: count, dtype: float64\n"
     ]
    }
   ],
   "source": [
    "print(f\"===> TRAIN\\n{df_train['Label'].value_counts() / df_train.shape[0]}\\n\")\n",
    "print(f\"===> TEST\\n{df_test['Label'].value_counts() / df_test.shape[0]}\")"
   ]
  },
  {
   "cell_type": "code",
   "execution_count": 53,
   "id": "17243866-9758-4915-b999-61de695d2cb9",
   "metadata": {
    "tags": []
   },
   "outputs": [],
   "source": [
    "# save the datasets\n",
    "df_train.to_csv('test_dataset_train_3.csv', sep=';', index = False)\n",
    "df_test.to_csv('test_dataset_test_3.csv', sep=';', index = False)"
   ]
  },
  {
   "cell_type": "code",
   "execution_count": 54,
   "id": "d6b22402-4f92-400c-a839-44c69468e48f",
   "metadata": {
    "scrolled": true,
    "tags": []
   },
   "outputs": [
    {
     "data": {
      "text/html": [
       "<div>\n",
       "<style scoped>\n",
       "    .dataframe tbody tr th:only-of-type {\n",
       "        vertical-align: middle;\n",
       "    }\n",
       "\n",
       "    .dataframe tbody tr th {\n",
       "        vertical-align: top;\n",
       "    }\n",
       "\n",
       "    .dataframe thead th {\n",
       "        text-align: right;\n",
       "    }\n",
       "</style>\n",
       "<table border=\"1\" class=\"dataframe\">\n",
       "  <thead>\n",
       "    <tr style=\"text-align: right;\">\n",
       "      <th></th>\n",
       "      <th>Vereador</th>\n",
       "      <th>Partido</th>\n",
       "      <th>Aprovado</th>\n",
       "      <th>Ementa</th>\n",
       "      <th>Texto</th>\n",
       "      <th>Label</th>\n",
       "    </tr>\n",
       "  </thead>\n",
       "  <tbody>\n",
       "    <tr>\n",
       "      <th>11</th>\n",
       "      <td>Carlão do PT</td>\n",
       "      <td>PT</td>\n",
       "      <td>sim</td>\n",
       "      <td>denomina centro saúde acylino souza santos cen...</td>\n",
       "      <td>art 1 fica denominado centro saúde acylino sou...</td>\n",
       "      <td>1</td>\n",
       "    </tr>\n",
       "    <tr>\n",
       "      <th>214</th>\n",
       "      <td>Marcos Bernardelli</td>\n",
       "      <td>PSDB</td>\n",
       "      <td>sim</td>\n",
       "      <td>denomina avenida dr roberto cerqueira oliveira...</td>\n",
       "      <td>art 1 0 fica denominada avenida dr roberto cer...</td>\n",
       "      <td>1</td>\n",
       "    </tr>\n",
       "    <tr>\n",
       "      <th>152</th>\n",
       "      <td>Luiz Cirilo</td>\n",
       "      <td>PSDB</td>\n",
       "      <td>sim</td>\n",
       "      <td>proíbe estabelecimentos comerciais situados mu...</td>\n",
       "      <td>art 1 estabelecimentos comerciais situados mun...</td>\n",
       "      <td>1</td>\n",
       "    </tr>\n",
       "    <tr>\n",
       "      <th>153</th>\n",
       "      <td>Luiz Cirilo</td>\n",
       "      <td>PSDB</td>\n",
       "      <td>sim</td>\n",
       "      <td>institui programa conscientização prevenção al...</td>\n",
       "      <td>art 1 2 fica instituído município programa con...</td>\n",
       "      <td>1</td>\n",
       "    </tr>\n",
       "    <tr>\n",
       "      <th>40</th>\n",
       "      <td>Carmo Luiz</td>\n",
       "      <td>PSC</td>\n",
       "      <td>sim</td>\n",
       "      <td>denomina praça cyro baldin recreio município c...</td>\n",
       "      <td>art 1º fica denominado praça cyro baldin recre...</td>\n",
       "      <td>1</td>\n",
       "    </tr>\n",
       "    <tr>\n",
       "      <th>...</th>\n",
       "      <td>...</td>\n",
       "      <td>...</td>\n",
       "      <td>...</td>\n",
       "      <td>...</td>\n",
       "      <td>...</td>\n",
       "      <td>...</td>\n",
       "    </tr>\n",
       "    <tr>\n",
       "      <th>147</th>\n",
       "      <td>Juscelino da Barbarense</td>\n",
       "      <td>PP</td>\n",
       "      <td>não</td>\n",
       "      <td>obriga postos gasolina município campinas impl...</td>\n",
       "      <td>art i p postos gasolina município campinas fic...</td>\n",
       "      <td>0</td>\n",
       "    </tr>\n",
       "    <tr>\n",
       "      <th>77</th>\n",
       "      <td>Cidão Santos</td>\n",
       "      <td>PROS</td>\n",
       "      <td>não</td>\n",
       "      <td>dispõe implantação programa educação comportam...</td>\n",
       "      <td>art 1 2 secretaria municipal educação será res...</td>\n",
       "      <td>0</td>\n",
       "    </tr>\n",
       "    <tr>\n",
       "      <th>229</th>\n",
       "      <td>Nelson Hossri</td>\n",
       "      <td>PTN</td>\n",
       "      <td>não</td>\n",
       "      <td>dispõe criação bolsões eou espaços públicos ad...</td>\n",
       "      <td>09102019 conforme manifestação procuradoria le...</td>\n",
       "      <td>0</td>\n",
       "    </tr>\n",
       "    <tr>\n",
       "      <th>133</th>\n",
       "      <td>Jorge da Farmácia</td>\n",
       "      <td>PSDB</td>\n",
       "      <td>sim</td>\n",
       "      <td>reconhece âmbito município campinas visão mono...</td>\n",
       "      <td>art 10   fica reconhecida deficiência visual â...</td>\n",
       "      <td>1</td>\n",
       "    </tr>\n",
       "    <tr>\n",
       "      <th>221</th>\n",
       "      <td>Nelson Hossri</td>\n",
       "      <td>PTN</td>\n",
       "      <td>não</td>\n",
       "      <td>dispõe publicidade atos programas obras serviç...</td>\n",
       "      <td>art i p propagandas ações comunicação atos pro...</td>\n",
       "      <td>0</td>\n",
       "    </tr>\n",
       "  </tbody>\n",
       "</table>\n",
       "<p>259 rows × 6 columns</p>\n",
       "</div>"
      ],
      "text/plain": [
       "                    Vereador Partido Aprovado   \n",
       "11              Carlão do PT      PT      sim  \\\n",
       "214       Marcos Bernardelli    PSDB      sim   \n",
       "152              Luiz Cirilo    PSDB      sim   \n",
       "153              Luiz Cirilo    PSDB      sim   \n",
       "40                Carmo Luiz     PSC      sim   \n",
       "..                       ...     ...      ...   \n",
       "147  Juscelino da Barbarense      PP      não   \n",
       "77              Cidão Santos    PROS      não   \n",
       "229            Nelson Hossri     PTN      não   \n",
       "133        Jorge da Farmácia    PSDB      sim   \n",
       "221            Nelson Hossri     PTN      não   \n",
       "\n",
       "                                                Ementa   \n",
       "11   denomina centro saúde acylino souza santos cen...  \\\n",
       "214  denomina avenida dr roberto cerqueira oliveira...   \n",
       "152  proíbe estabelecimentos comerciais situados mu...   \n",
       "153  institui programa conscientização prevenção al...   \n",
       "40   denomina praça cyro baldin recreio município c...   \n",
       "..                                                 ...   \n",
       "147  obriga postos gasolina município campinas impl...   \n",
       "77   dispõe implantação programa educação comportam...   \n",
       "229  dispõe criação bolsões eou espaços públicos ad...   \n",
       "133  reconhece âmbito município campinas visão mono...   \n",
       "221  dispõe publicidade atos programas obras serviç...   \n",
       "\n",
       "                                                 Texto  Label  \n",
       "11   art 1 fica denominado centro saúde acylino sou...      1  \n",
       "214  art 1 0 fica denominada avenida dr roberto cer...      1  \n",
       "152  art 1 estabelecimentos comerciais situados mun...      1  \n",
       "153  art 1 2 fica instituído município programa con...      1  \n",
       "40   art 1º fica denominado praça cyro baldin recre...      1  \n",
       "..                                                 ...    ...  \n",
       "147  art i p postos gasolina município campinas fic...      0  \n",
       "77   art 1 2 secretaria municipal educação será res...      0  \n",
       "229  09102019 conforme manifestação procuradoria le...      0  \n",
       "133  art 10   fica reconhecida deficiência visual â...      1  \n",
       "221  art i p propagandas ações comunicação atos pro...      0  \n",
       "\n",
       "[259 rows x 6 columns]"
      ]
     },
     "execution_count": 54,
     "metadata": {},
     "output_type": "execute_result"
    }
   ],
   "source": [
    "df_train"
   ]
  },
  {
   "cell_type": "code",
   "execution_count": 55,
   "id": "51a06145-9a36-4603-9553-f9a7c787050f",
   "metadata": {
    "scrolled": true,
    "tags": []
   },
   "outputs": [
    {
     "data": {
      "text/html": [
       "<div>\n",
       "<style scoped>\n",
       "    .dataframe tbody tr th:only-of-type {\n",
       "        vertical-align: middle;\n",
       "    }\n",
       "\n",
       "    .dataframe tbody tr th {\n",
       "        vertical-align: top;\n",
       "    }\n",
       "\n",
       "    .dataframe thead th {\n",
       "        text-align: right;\n",
       "    }\n",
       "</style>\n",
       "<table border=\"1\" class=\"dataframe\">\n",
       "  <thead>\n",
       "    <tr style=\"text-align: right;\">\n",
       "      <th></th>\n",
       "      <th>Vereador</th>\n",
       "      <th>Partido</th>\n",
       "      <th>Aprovado</th>\n",
       "      <th>Ementa</th>\n",
       "      <th>Texto</th>\n",
       "      <th>Label</th>\n",
       "    </tr>\n",
       "  </thead>\n",
       "  <tbody>\n",
       "    <tr>\n",
       "      <th>120</th>\n",
       "      <td>Jorge da Farmácia</td>\n",
       "      <td>PSDB</td>\n",
       "      <td>sim</td>\n",
       "      <td>declara órgão utilidade pública municipal fund...</td>\n",
       "      <td>art i p fica declarada órgão utilidade pública...</td>\n",
       "      <td>1</td>\n",
       "    </tr>\n",
       "    <tr>\n",
       "      <th>61</th>\n",
       "      <td>Carmo Luiz</td>\n",
       "      <td>PSC</td>\n",
       "      <td>não</td>\n",
       "      <td>institui homenagem mulheres vítimas feminicídi...</td>\n",
       "      <td>art i p fica instituída homenagem mulheres vít...</td>\n",
       "      <td>0</td>\n",
       "    </tr>\n",
       "    <tr>\n",
       "      <th>357</th>\n",
       "      <td>Zé Carlos</td>\n",
       "      <td>PSB</td>\n",
       "      <td>sim</td>\n",
       "      <td>denomina rua osvualte darri via pública municí...</td>\n",
       "      <td>art 1 fica denominada rua osvualte darri rua 0...</td>\n",
       "      <td>1</td>\n",
       "    </tr>\n",
       "    <tr>\n",
       "      <th>178</th>\n",
       "      <td>Luiz Rossini</td>\n",
       "      <td>PV</td>\n",
       "      <td>sim</td>\n",
       "      <td>inclui calendário oficial município campinas s...</td>\n",
       "      <td>art 1 2 fica incluída calendário oficial munic...</td>\n",
       "      <td>1</td>\n",
       "    </tr>\n",
       "    <tr>\n",
       "      <th>83</th>\n",
       "      <td>Cláudio da Farmácia</td>\n",
       "      <td>PSC</td>\n",
       "      <td>não</td>\n",
       "      <td>dispõe criação bolsões estacionamento exclusiv...</td>\n",
       "      <td>16092019 conforme manifestação procuradoria le...</td>\n",
       "      <td>0</td>\n",
       "    </tr>\n",
       "    <tr>\n",
       "      <th>...</th>\n",
       "      <td>...</td>\n",
       "      <td>...</td>\n",
       "      <td>...</td>\n",
       "      <td>...</td>\n",
       "      <td>...</td>\n",
       "      <td>...</td>\n",
       "    </tr>\n",
       "    <tr>\n",
       "      <th>290</th>\n",
       "      <td>Pr. Elias Azevedo</td>\n",
       "      <td>PSB</td>\n",
       "      <td>não</td>\n",
       "      <td>dispõe criação bolsões estacionamento exclusiv...</td>\n",
       "      <td>16092019 conforme manifestação procuradoria le...</td>\n",
       "      <td>0</td>\n",
       "    </tr>\n",
       "    <tr>\n",
       "      <th>344</th>\n",
       "      <td>Tenente Santini</td>\n",
       "      <td>PSD</td>\n",
       "      <td>não</td>\n",
       "      <td>estabelece critérios serem observados nomeação...</td>\n",
       "      <td>art i p nomeação cargos presidente diretor adm...</td>\n",
       "      <td>0</td>\n",
       "    </tr>\n",
       "    <tr>\n",
       "      <th>211</th>\n",
       "      <td>Marcos Bernardelli</td>\n",
       "      <td>PSDB</td>\n",
       "      <td>não</td>\n",
       "      <td>dispõe âmbito município campinas obrigatorieda...</td>\n",
       "      <td>art 10 ficam agências bancárias estabelecidas ...</td>\n",
       "      <td>0</td>\n",
       "    </tr>\n",
       "    <tr>\n",
       "      <th>324</th>\n",
       "      <td>Professor Alberto</td>\n",
       "      <td>PR</td>\n",
       "      <td>sim</td>\n",
       "      <td>altera art 1º lei nº 14045 07 abril 2011 inclu...</td>\n",
       "      <td>art 1º fica alterado art 1º lei nº 14045 7 abr...</td>\n",
       "      <td>1</td>\n",
       "    </tr>\n",
       "    <tr>\n",
       "      <th>233</th>\n",
       "      <td>Paulo Galterio</td>\n",
       "      <td>PSB</td>\n",
       "      <td>sim</td>\n",
       "      <td>altera redação   1º 3º art 2º lei nº 14789 4 a...</td>\n",
       "      <td>art 1 ficam alterados ss i p 3 2 art 2 2 lei n...</td>\n",
       "      <td>1</td>\n",
       "    </tr>\n",
       "  </tbody>\n",
       "</table>\n",
       "<p>111 rows × 6 columns</p>\n",
       "</div>"
      ],
      "text/plain": [
       "                Vereador Partido Aprovado   \n",
       "120    Jorge da Farmácia    PSDB      sim  \\\n",
       "61            Carmo Luiz     PSC      não   \n",
       "357            Zé Carlos     PSB      sim   \n",
       "178         Luiz Rossini      PV      sim   \n",
       "83   Cláudio da Farmácia     PSC      não   \n",
       "..                   ...     ...      ...   \n",
       "290    Pr. Elias Azevedo     PSB      não   \n",
       "344      Tenente Santini     PSD      não   \n",
       "211   Marcos Bernardelli    PSDB      não   \n",
       "324    Professor Alberto      PR      sim   \n",
       "233       Paulo Galterio     PSB      sim   \n",
       "\n",
       "                                                Ementa   \n",
       "120  declara órgão utilidade pública municipal fund...  \\\n",
       "61   institui homenagem mulheres vítimas feminicídi...   \n",
       "357  denomina rua osvualte darri via pública municí...   \n",
       "178  inclui calendário oficial município campinas s...   \n",
       "83   dispõe criação bolsões estacionamento exclusiv...   \n",
       "..                                                 ...   \n",
       "290  dispõe criação bolsões estacionamento exclusiv...   \n",
       "344  estabelece critérios serem observados nomeação...   \n",
       "211  dispõe âmbito município campinas obrigatorieda...   \n",
       "324  altera art 1º lei nº 14045 07 abril 2011 inclu...   \n",
       "233  altera redação   1º 3º art 2º lei nº 14789 4 a...   \n",
       "\n",
       "                                                 Texto  Label  \n",
       "120  art i p fica declarada órgão utilidade pública...      1  \n",
       "61   art i p fica instituída homenagem mulheres vít...      0  \n",
       "357  art 1 fica denominada rua osvualte darri rua 0...      1  \n",
       "178  art 1 2 fica incluída calendário oficial munic...      1  \n",
       "83   16092019 conforme manifestação procuradoria le...      0  \n",
       "..                                                 ...    ...  \n",
       "290  16092019 conforme manifestação procuradoria le...      0  \n",
       "344  art i p nomeação cargos presidente diretor adm...      0  \n",
       "211  art 10 ficam agências bancárias estabelecidas ...      0  \n",
       "324  art 1º fica alterado art 1º lei nº 14045 7 abr...      1  \n",
       "233  art 1 ficam alterados ss i p 3 2 art 2 2 lei n...      1  \n",
       "\n",
       "[111 rows x 6 columns]"
      ]
     },
     "execution_count": 55,
     "metadata": {},
     "output_type": "execute_result"
    }
   ],
   "source": [
    "df_test"
   ]
  },
  {
   "cell_type": "markdown",
   "id": "2c4890de-15de-4109-a70d-4abbdd2c07ee",
   "metadata": {},
   "source": [
    "##### Nova remoção na coluna 'Texto' usando biblioteca neattext\n",
    "- lowering, expand contractions\n",
    "- remove:\n",
    "  + punctuations, stop words, urls, emails, numbers, emojis, phone numbers, multiple whitespaces, currency symbols, special characters"
   ]
  },
  {
   "cell_type": "code",
   "execution_count": 56,
   "id": "56bd39ac-b817-45df-83fe-9ca2e44b6837",
   "metadata": {
    "tags": []
   },
   "outputs": [
    {
     "name": "stdout",
     "output_type": "stream",
     "text": [
      "Requirement already satisfied: neattext in c:\\users\\swift\\appdata\\local\\programs\\python\\python311\\lib\\site-packages (0.1.3)\n"
     ]
    }
   ],
   "source": [
    "!pip install neattext"
   ]
  },
  {
   "cell_type": "code",
   "execution_count": 57,
   "id": "e5893ed8-eff5-4dea-a7f9-39200998fc79",
   "metadata": {
    "tags": []
   },
   "outputs": [],
   "source": [
    "import neattext.functions as ntx\n",
    "\n",
    "def text_preprocessing(text_in: str) -> str:\n",
    "    text = text_in.lower()\n",
    "    text = ntx.fix_contractions(text)\n",
    "    text = ntx.remove_punctuations(text)\n",
    "    text = ntx.remove_stopwords(text)\n",
    "    text = ntx.remove_urls(text)\n",
    "    text = ntx.remove_emails(text)\n",
    "    text = ntx.remove_numbers(text)\n",
    "    text = ntx.remove_emojis(text)\n",
    "    text = ntx.remove_phone_numbers(text)\n",
    "    text = ntx.remove_multiple_spaces(text)\n",
    "    text = ntx.remove_currency_symbols(text)\n",
    "    text = ntx.remove_special_characters(text)\n",
    "    return text"
   ]
  },
  {
   "cell_type": "code",
   "execution_count": 58,
   "id": "b31df326-dacc-4867-ba22-5783e30af2bd",
   "metadata": {
    "tags": []
   },
   "outputs": [
    {
     "name": "stdout",
     "output_type": "stream",
     "text": [
      "Requirement already satisfied: tqdm in c:\\users\\swift\\appdata\\local\\programs\\python\\python311\\lib\\site-packages (4.65.0)\n",
      "Requirement already satisfied: colorama in c:\\users\\swift\\appdata\\local\\programs\\python\\python311\\lib\\site-packages (from tqdm) (0.4.6)\n"
     ]
    }
   ],
   "source": [
    "# progress bar in pandas\n",
    "!pip install tqdm"
   ]
  },
  {
   "cell_type": "code",
   "execution_count": 59,
   "id": "1f003d03-8e70-4791-b67c-c049db369653",
   "metadata": {
    "tags": []
   },
   "outputs": [],
   "source": [
    "from tqdm import tqdm\n",
    "tqdm.pandas()  # it enables some new progress bar functions/methods for pandas"
   ]
  },
  {
   "cell_type": "code",
   "execution_count": 60,
   "id": "1d2834ad-ab56-4e1d-a4de-cfe8201eea2c",
   "metadata": {
    "tags": []
   },
   "outputs": [
    {
     "name": "stderr",
     "output_type": "stream",
     "text": [
      "100%|███████████████████████████████████████████████████████████████████████████████| 259/259 [00:00<00:00, 296.18it/s]\n"
     ]
    }
   ],
   "source": [
    "# pre-process the training set\n",
    "#df_train['Texto-pre'] = df_train['Texto'].progress_apply(lambda text: text_preprocessing(text))\n",
    "df_train['Texto-pre'] = df_train['Texto'].progress_apply(lambda text: text_preprocessing(text)).copy()"
   ]
  },
  {
   "cell_type": "code",
   "execution_count": 61,
   "id": "530bc134-8ca7-4a06-b240-9603b8428f62",
   "metadata": {
    "scrolled": true,
    "tags": []
   },
   "outputs": [
    {
     "data": {
      "text/html": [
       "<div>\n",
       "<style scoped>\n",
       "    .dataframe tbody tr th:only-of-type {\n",
       "        vertical-align: middle;\n",
       "    }\n",
       "\n",
       "    .dataframe tbody tr th {\n",
       "        vertical-align: top;\n",
       "    }\n",
       "\n",
       "    .dataframe thead th {\n",
       "        text-align: right;\n",
       "    }\n",
       "</style>\n",
       "<table border=\"1\" class=\"dataframe\">\n",
       "  <thead>\n",
       "    <tr style=\"text-align: right;\">\n",
       "      <th></th>\n",
       "      <th>Vereador</th>\n",
       "      <th>Partido</th>\n",
       "      <th>Aprovado</th>\n",
       "      <th>Ementa</th>\n",
       "      <th>Texto</th>\n",
       "      <th>Label</th>\n",
       "      <th>Texto-pre</th>\n",
       "    </tr>\n",
       "  </thead>\n",
       "  <tbody>\n",
       "    <tr>\n",
       "      <th>11</th>\n",
       "      <td>Carlão do PT</td>\n",
       "      <td>PT</td>\n",
       "      <td>sim</td>\n",
       "      <td>denomina centro saúde acylino souza santos cen...</td>\n",
       "      <td>art 1 fica denominado centro saúde acylino sou...</td>\n",
       "      <td>1</td>\n",
       "      <td>art fica denominado centro sade acylino souza ...</td>\n",
       "    </tr>\n",
       "    <tr>\n",
       "      <th>214</th>\n",
       "      <td>Marcos Bernardelli</td>\n",
       "      <td>PSDB</td>\n",
       "      <td>sim</td>\n",
       "      <td>denomina avenida dr roberto cerqueira oliveira...</td>\n",
       "      <td>art 1 0 fica denominada avenida dr roberto cer...</td>\n",
       "      <td>1</td>\n",
       "      <td>art fica denominada avenida dr roberto cerquei...</td>\n",
       "    </tr>\n",
       "    <tr>\n",
       "      <th>152</th>\n",
       "      <td>Luiz Cirilo</td>\n",
       "      <td>PSDB</td>\n",
       "      <td>sim</td>\n",
       "      <td>proíbe estabelecimentos comerciais situados mu...</td>\n",
       "      <td>art 1 estabelecimentos comerciais situados mun...</td>\n",
       "      <td>1</td>\n",
       "      <td>art estabelecimentos comerciais situados munic...</td>\n",
       "    </tr>\n",
       "    <tr>\n",
       "      <th>153</th>\n",
       "      <td>Luiz Cirilo</td>\n",
       "      <td>PSDB</td>\n",
       "      <td>sim</td>\n",
       "      <td>institui programa conscientização prevenção al...</td>\n",
       "      <td>art 1 2 fica instituído município programa con...</td>\n",
       "      <td>1</td>\n",
       "      <td>art fica institudo municpio programa conscient...</td>\n",
       "    </tr>\n",
       "    <tr>\n",
       "      <th>40</th>\n",
       "      <td>Carmo Luiz</td>\n",
       "      <td>PSC</td>\n",
       "      <td>sim</td>\n",
       "      <td>denomina praça cyro baldin recreio município c...</td>\n",
       "      <td>art 1º fica denominado praça cyro baldin recre...</td>\n",
       "      <td>1</td>\n",
       "      <td>art  fica denominado praa cyro baldin recreio ...</td>\n",
       "    </tr>\n",
       "  </tbody>\n",
       "</table>\n",
       "</div>"
      ],
      "text/plain": [
       "               Vereador Partido Aprovado   \n",
       "11         Carlão do PT      PT      sim  \\\n",
       "214  Marcos Bernardelli    PSDB      sim   \n",
       "152         Luiz Cirilo    PSDB      sim   \n",
       "153         Luiz Cirilo    PSDB      sim   \n",
       "40           Carmo Luiz     PSC      sim   \n",
       "\n",
       "                                                Ementa   \n",
       "11   denomina centro saúde acylino souza santos cen...  \\\n",
       "214  denomina avenida dr roberto cerqueira oliveira...   \n",
       "152  proíbe estabelecimentos comerciais situados mu...   \n",
       "153  institui programa conscientização prevenção al...   \n",
       "40   denomina praça cyro baldin recreio município c...   \n",
       "\n",
       "                                                 Texto  Label   \n",
       "11   art 1 fica denominado centro saúde acylino sou...      1  \\\n",
       "214  art 1 0 fica denominada avenida dr roberto cer...      1   \n",
       "152  art 1 estabelecimentos comerciais situados mun...      1   \n",
       "153  art 1 2 fica instituído município programa con...      1   \n",
       "40   art 1º fica denominado praça cyro baldin recre...      1   \n",
       "\n",
       "                                             Texto-pre  \n",
       "11   art fica denominado centro sade acylino souza ...  \n",
       "214  art fica denominada avenida dr roberto cerquei...  \n",
       "152  art estabelecimentos comerciais situados munic...  \n",
       "153  art fica institudo municpio programa conscient...  \n",
       "40   art  fica denominado praa cyro baldin recreio ...  "
      ]
     },
     "execution_count": 61,
     "metadata": {},
     "output_type": "execute_result"
    }
   ],
   "source": [
    "df_train.head()"
   ]
  },
  {
   "cell_type": "code",
   "execution_count": 62,
   "id": "ab789a1b-2aa2-4625-8907-7e73f32088aa",
   "metadata": {
    "tags": []
   },
   "outputs": [
    {
     "name": "stderr",
     "output_type": "stream",
     "text": [
      "100%|███████████████████████████████████████████████████████████████████████████████| 111/111 [00:00<00:00, 273.57it/s]\n"
     ]
    }
   ],
   "source": [
    "# pre-process the training set\n",
    "df_test['Texto-pre'] = df_test['Texto'].progress_apply(lambda text: text_preprocessing(text))"
   ]
  },
  {
   "cell_type": "code",
   "execution_count": 63,
   "id": "d443de0f-a006-484a-8fc8-1bb9075262f5",
   "metadata": {
    "scrolled": true,
    "tags": []
   },
   "outputs": [
    {
     "data": {
      "text/html": [
       "<div>\n",
       "<style scoped>\n",
       "    .dataframe tbody tr th:only-of-type {\n",
       "        vertical-align: middle;\n",
       "    }\n",
       "\n",
       "    .dataframe tbody tr th {\n",
       "        vertical-align: top;\n",
       "    }\n",
       "\n",
       "    .dataframe thead th {\n",
       "        text-align: right;\n",
       "    }\n",
       "</style>\n",
       "<table border=\"1\" class=\"dataframe\">\n",
       "  <thead>\n",
       "    <tr style=\"text-align: right;\">\n",
       "      <th></th>\n",
       "      <th>Vereador</th>\n",
       "      <th>Partido</th>\n",
       "      <th>Aprovado</th>\n",
       "      <th>Ementa</th>\n",
       "      <th>Texto</th>\n",
       "      <th>Label</th>\n",
       "      <th>Texto-pre</th>\n",
       "    </tr>\n",
       "  </thead>\n",
       "  <tbody>\n",
       "    <tr>\n",
       "      <th>120</th>\n",
       "      <td>Jorge da Farmácia</td>\n",
       "      <td>PSDB</td>\n",
       "      <td>sim</td>\n",
       "      <td>declara órgão utilidade pública municipal fund...</td>\n",
       "      <td>art i p fica declarada órgão utilidade pública...</td>\n",
       "      <td>1</td>\n",
       "      <td>art p fica declarada rgo utilidade pblica muni...</td>\n",
       "    </tr>\n",
       "    <tr>\n",
       "      <th>61</th>\n",
       "      <td>Carmo Luiz</td>\n",
       "      <td>PSC</td>\n",
       "      <td>não</td>\n",
       "      <td>institui homenagem mulheres vítimas feminicídi...</td>\n",
       "      <td>art i p fica instituída homenagem mulheres vít...</td>\n",
       "      <td>0</td>\n",
       "      <td>art p fica instituda homenagem mulheres vtimas...</td>\n",
       "    </tr>\n",
       "    <tr>\n",
       "      <th>357</th>\n",
       "      <td>Zé Carlos</td>\n",
       "      <td>PSB</td>\n",
       "      <td>sim</td>\n",
       "      <td>denomina rua osvualte darri via pública municí...</td>\n",
       "      <td>art 1 fica denominada rua osvualte darri rua 0...</td>\n",
       "      <td>1</td>\n",
       "      <td>art fica denominada rua osvualte darri rua lot...</td>\n",
       "    </tr>\n",
       "    <tr>\n",
       "      <th>178</th>\n",
       "      <td>Luiz Rossini</td>\n",
       "      <td>PV</td>\n",
       "      <td>sim</td>\n",
       "      <td>inclui calendário oficial município campinas s...</td>\n",
       "      <td>art 1 2 fica incluída calendário oficial munic...</td>\n",
       "      <td>1</td>\n",
       "      <td>art fica includa calendrio oficial municpio ca...</td>\n",
       "    </tr>\n",
       "    <tr>\n",
       "      <th>83</th>\n",
       "      <td>Cláudio da Farmácia</td>\n",
       "      <td>PSC</td>\n",
       "      <td>não</td>\n",
       "      <td>dispõe criação bolsões estacionamento exclusiv...</td>\n",
       "      <td>16092019 conforme manifestação procuradoria le...</td>\n",
       "      <td>0</td>\n",
       "      <td>conforme manifestao procuradoria legislativa ...</td>\n",
       "    </tr>\n",
       "  </tbody>\n",
       "</table>\n",
       "</div>"
      ],
      "text/plain": [
       "                Vereador Partido Aprovado   \n",
       "120    Jorge da Farmácia    PSDB      sim  \\\n",
       "61            Carmo Luiz     PSC      não   \n",
       "357            Zé Carlos     PSB      sim   \n",
       "178         Luiz Rossini      PV      sim   \n",
       "83   Cláudio da Farmácia     PSC      não   \n",
       "\n",
       "                                                Ementa   \n",
       "120  declara órgão utilidade pública municipal fund...  \\\n",
       "61   institui homenagem mulheres vítimas feminicídi...   \n",
       "357  denomina rua osvualte darri via pública municí...   \n",
       "178  inclui calendário oficial município campinas s...   \n",
       "83   dispõe criação bolsões estacionamento exclusiv...   \n",
       "\n",
       "                                                 Texto  Label   \n",
       "120  art i p fica declarada órgão utilidade pública...      1  \\\n",
       "61   art i p fica instituída homenagem mulheres vít...      0   \n",
       "357  art 1 fica denominada rua osvualte darri rua 0...      1   \n",
       "178  art 1 2 fica incluída calendário oficial munic...      1   \n",
       "83   16092019 conforme manifestação procuradoria le...      0   \n",
       "\n",
       "                                             Texto-pre  \n",
       "120  art p fica declarada rgo utilidade pblica muni...  \n",
       "61   art p fica instituda homenagem mulheres vtimas...  \n",
       "357  art fica denominada rua osvualte darri rua lot...  \n",
       "178  art fica includa calendrio oficial municpio ca...  \n",
       "83    conforme manifestao procuradoria legislativa ...  "
      ]
     },
     "execution_count": 63,
     "metadata": {},
     "output_type": "execute_result"
    }
   ],
   "source": [
    "df_test.head()"
   ]
  },
  {
   "cell_type": "code",
   "execution_count": 64,
   "id": "a3cd0987-cab8-4909-ab42-956eb914105b",
   "metadata": {
    "tags": []
   },
   "outputs": [],
   "source": [
    "# save the preprocessed datasets\n",
    "df_train.to_csv('test_dataset_train_preprocessed_3.csv', sep=';', index=False)\n",
    "df_test.to_csv('test_dataset_test_preprocessed_3.csv', sep=';', index=False)"
   ]
  },
  {
   "cell_type": "markdown",
   "id": "285f5c63-4751-425c-978c-98932dea03d5",
   "metadata": {},
   "source": [
    "### 3. Feature Extraction"
   ]
  },
  {
   "cell_type": "code",
   "execution_count": 65,
   "id": "a4ad6136-7938-476c-a93f-47073d2428dd",
   "metadata": {
    "tags": []
   },
   "outputs": [],
   "source": [
    "from sklearn.feature_extraction.text import TfidfVectorizer\n",
    "\n",
    "tfidf = TfidfVectorizer()\n",
    "\n",
    "X_train = tfidf.fit_transform(df_train['Texto-pre'])\n",
    "y_train = df_train['Label']\n",
    "\n",
    "X_test = tfidf.transform(df_test['Texto-pre'])\n",
    "y_test = df_test['Label']"
   ]
  },
  {
   "cell_type": "code",
   "execution_count": 66,
   "id": "4baab7af-1e5e-47b6-9b82-f615701f060d",
   "metadata": {
    "tags": []
   },
   "outputs": [
    {
     "data": {
      "text/plain": [
       "((259, 5606), (111, 5606))"
      ]
     },
     "execution_count": 66,
     "metadata": {},
     "output_type": "execute_result"
    }
   ],
   "source": [
    "X_train.shape, X_test.shape"
   ]
  },
  {
   "cell_type": "code",
   "execution_count": 67,
   "id": "0fe126e6-22fd-4be3-a316-4a2846d15d57",
   "metadata": {
    "tags": []
   },
   "outputs": [
    {
     "name": "stdout",
     "output_type": "stream",
     "text": [
      "Vocabulary size: 5606\n"
     ]
    }
   ],
   "source": [
    "print(f'Vocabulary size: {len(tfidf.vocabulary_)}')"
   ]
  },
  {
   "cell_type": "markdown",
   "id": "de3efbba-3a5e-479b-a9b8-e1334b8376ce",
   "metadata": {},
   "source": [
    "### 4. Treinamento de modelos"
   ]
  },
  {
   "cell_type": "code",
   "execution_count": 68,
   "id": "14bc1a9f-1df6-444b-b720-59bb816c627f",
   "metadata": {
    "tags": []
   },
   "outputs": [
    {
     "data": {
      "text/html": [
       "<style>#sk-container-id-3 {color: black;}#sk-container-id-3 pre{padding: 0;}#sk-container-id-3 div.sk-toggleable {background-color: white;}#sk-container-id-3 label.sk-toggleable__label {cursor: pointer;display: block;width: 100%;margin-bottom: 0;padding: 0.3em;box-sizing: border-box;text-align: center;}#sk-container-id-3 label.sk-toggleable__label-arrow:before {content: \"▸\";float: left;margin-right: 0.25em;color: #696969;}#sk-container-id-3 label.sk-toggleable__label-arrow:hover:before {color: black;}#sk-container-id-3 div.sk-estimator:hover label.sk-toggleable__label-arrow:before {color: black;}#sk-container-id-3 div.sk-toggleable__content {max-height: 0;max-width: 0;overflow: hidden;text-align: left;background-color: #f0f8ff;}#sk-container-id-3 div.sk-toggleable__content pre {margin: 0.2em;color: black;border-radius: 0.25em;background-color: #f0f8ff;}#sk-container-id-3 input.sk-toggleable__control:checked~div.sk-toggleable__content {max-height: 200px;max-width: 100%;overflow: auto;}#sk-container-id-3 input.sk-toggleable__control:checked~label.sk-toggleable__label-arrow:before {content: \"▾\";}#sk-container-id-3 div.sk-estimator input.sk-toggleable__control:checked~label.sk-toggleable__label {background-color: #d4ebff;}#sk-container-id-3 div.sk-label input.sk-toggleable__control:checked~label.sk-toggleable__label {background-color: #d4ebff;}#sk-container-id-3 input.sk-hidden--visually {border: 0;clip: rect(1px 1px 1px 1px);clip: rect(1px, 1px, 1px, 1px);height: 1px;margin: -1px;overflow: hidden;padding: 0;position: absolute;width: 1px;}#sk-container-id-3 div.sk-estimator {font-family: monospace;background-color: #f0f8ff;border: 1px dotted black;border-radius: 0.25em;box-sizing: border-box;margin-bottom: 0.5em;}#sk-container-id-3 div.sk-estimator:hover {background-color: #d4ebff;}#sk-container-id-3 div.sk-parallel-item::after {content: \"\";width: 100%;border-bottom: 1px solid gray;flex-grow: 1;}#sk-container-id-3 div.sk-label:hover label.sk-toggleable__label {background-color: #d4ebff;}#sk-container-id-3 div.sk-serial::before {content: \"\";position: absolute;border-left: 1px solid gray;box-sizing: border-box;top: 0;bottom: 0;left: 50%;z-index: 0;}#sk-container-id-3 div.sk-serial {display: flex;flex-direction: column;align-items: center;background-color: white;padding-right: 0.2em;padding-left: 0.2em;position: relative;}#sk-container-id-3 div.sk-item {position: relative;z-index: 1;}#sk-container-id-3 div.sk-parallel {display: flex;align-items: stretch;justify-content: center;background-color: white;position: relative;}#sk-container-id-3 div.sk-item::before, #sk-container-id-3 div.sk-parallel-item::before {content: \"\";position: absolute;border-left: 1px solid gray;box-sizing: border-box;top: 0;bottom: 0;left: 50%;z-index: -1;}#sk-container-id-3 div.sk-parallel-item {display: flex;flex-direction: column;z-index: 1;position: relative;background-color: white;}#sk-container-id-3 div.sk-parallel-item:first-child::after {align-self: flex-end;width: 50%;}#sk-container-id-3 div.sk-parallel-item:last-child::after {align-self: flex-start;width: 50%;}#sk-container-id-3 div.sk-parallel-item:only-child::after {width: 0;}#sk-container-id-3 div.sk-dashed-wrapped {border: 1px dashed gray;margin: 0 0.4em 0.5em 0.4em;box-sizing: border-box;padding-bottom: 0.4em;background-color: white;}#sk-container-id-3 div.sk-label label {font-family: monospace;font-weight: bold;display: inline-block;line-height: 1.2em;}#sk-container-id-3 div.sk-label-container {text-align: center;}#sk-container-id-3 div.sk-container {/* jupyter's `normalize.less` sets `[hidden] { display: none; }` but bootstrap.min.css set `[hidden] { display: none !important; }` so we also need the `!important` here to be able to override the default hidden behavior on the sphinx rendered scikit-learn.org. See: https://github.com/scikit-learn/scikit-learn/issues/21755 */display: inline-block !important;position: relative;}#sk-container-id-3 div.sk-text-repr-fallback {display: none;}</style><div id=\"sk-container-id-3\" class=\"sk-top-container\"><div class=\"sk-text-repr-fallback\"><pre>LogisticRegression(class_weight=&#x27;balanced&#x27;, n_jobs=-1)</pre><b>In a Jupyter environment, please rerun this cell to show the HTML representation or trust the notebook. <br />On GitHub, the HTML representation is unable to render, please try loading this page with nbviewer.org.</b></div><div class=\"sk-container\" hidden><div class=\"sk-item\"><div class=\"sk-estimator sk-toggleable\"><input class=\"sk-toggleable__control sk-hidden--visually\" id=\"sk-estimator-id-3\" type=\"checkbox\" checked><label for=\"sk-estimator-id-3\" class=\"sk-toggleable__label sk-toggleable__label-arrow\">LogisticRegression</label><div class=\"sk-toggleable__content\"><pre>LogisticRegression(class_weight=&#x27;balanced&#x27;, n_jobs=-1)</pre></div></div></div></div></div>"
      ],
      "text/plain": [
       "LogisticRegression(class_weight='balanced', n_jobs=-1)"
      ]
     },
     "execution_count": 68,
     "metadata": {},
     "output_type": "execute_result"
    }
   ],
   "source": [
    "from sklearn.linear_model import LogisticRegression\n",
    "\n",
    "logreg = LogisticRegression(class_weight='balanced', n_jobs=-1)\n",
    "\n",
    "logreg.fit(X_train, y_train)"
   ]
  },
  {
   "cell_type": "code",
   "execution_count": 69,
   "id": "a4642296-3db2-49b4-a598-dc29924e803a",
   "metadata": {
    "tags": []
   },
   "outputs": [],
   "source": [
    "# prediction on training set\n",
    "y_train_pred = logreg.predict(X_train)"
   ]
  },
  {
   "cell_type": "code",
   "execution_count": 70,
   "id": "a12b857b-af0e-4458-9cf3-f18b90b9006f",
   "metadata": {
    "tags": []
   },
   "outputs": [
    {
     "name": "stdout",
     "output_type": "stream",
     "text": [
      "              precision    recall  f1-score   support\n",
      "\n",
      "           0       0.94      0.98      0.96       132\n",
      "           1       0.98      0.93      0.96       127\n",
      "\n",
      "    accuracy                           0.96       259\n",
      "   macro avg       0.96      0.96      0.96       259\n",
      "weighted avg       0.96      0.96      0.96       259\n",
      "\n"
     ]
    }
   ],
   "source": [
    "from sklearn.metrics import classification_report\n",
    "\n",
    "#print(classification_report(y_train, y_train_pred, target_names=target_names))\n",
    "print(classification_report(y_train, y_train_pred))"
   ]
  },
  {
   "cell_type": "code",
   "execution_count": 71,
   "id": "ac79d2f9-7604-4e54-a1f3-3aaf7abe6cae",
   "metadata": {
    "tags": []
   },
   "outputs": [
    {
     "name": "stdout",
     "output_type": "stream",
     "text": [
      "F1 Train: 0.9574375905702377\n"
     ]
    }
   ],
   "source": [
    "from sklearn.metrics import f1_score\n",
    "\n",
    "f1_train = f1_score(y_train, y_train_pred, average='macro')\n",
    "\n",
    "print(f'F1 Train: {f1_train}')"
   ]
  },
  {
   "cell_type": "code",
   "execution_count": 72,
   "id": "c0f7d9c9-d9b7-4238-a0ea-ddc64b093381",
   "metadata": {
    "tags": []
   },
   "outputs": [
    {
     "name": "stdout",
     "output_type": "stream",
     "text": [
      "Balanced Acc Train: 0.9569911715581008\n"
     ]
    }
   ],
   "source": [
    "from sklearn.metrics import balanced_accuracy_score\n",
    "\n",
    "balacc_train = balanced_accuracy_score(y_train, y_train_pred)\n",
    "\n",
    "print(f'Balanced Acc Train: {balacc_train}')"
   ]
  },
  {
   "cell_type": "markdown",
   "id": "6a83797a-fb23-4fb2-b80c-0816b616fe12",
   "metadata": {},
   "source": [
    "#### Evaluate the model on the Test Set"
   ]
  },
  {
   "cell_type": "code",
   "execution_count": 73,
   "id": "da3b5eb3-2ed9-4b27-89af-41c87f1a8b9e",
   "metadata": {
    "tags": []
   },
   "outputs": [],
   "source": [
    "# prediction on testing set\n",
    "y_test_pred = logreg.predict(X_test)"
   ]
  },
  {
   "cell_type": "code",
   "execution_count": 74,
   "id": "62383680-d01b-4924-b638-0d335dc736c3",
   "metadata": {
    "tags": []
   },
   "outputs": [
    {
     "name": "stdout",
     "output_type": "stream",
     "text": [
      "              precision    recall  f1-score   support\n",
      "\n",
      "           0       0.88      0.91      0.90        57\n",
      "           1       0.90      0.87      0.89        54\n",
      "\n",
      "    accuracy                           0.89       111\n",
      "   macro avg       0.89      0.89      0.89       111\n",
      "weighted avg       0.89      0.89      0.89       111\n",
      "\n"
     ]
    }
   ],
   "source": [
    "#from sklearn.metrics import classification_report\n",
    "print(classification_report(y_test, y_test_pred))"
   ]
  },
  {
   "cell_type": "code",
   "execution_count": 75,
   "id": "e835224a-544a-45e7-9761-edf04d24bf68",
   "metadata": {
    "tags": []
   },
   "outputs": [
    {
     "name": "stdout",
     "output_type": "stream",
     "text": [
      "F1 Test: 0.8916720884840599\n"
     ]
    }
   ],
   "source": [
    "from sklearn.metrics import f1_score\n",
    "f1_test = f1_score(y_test, y_test_pred, average='macro')\n",
    "print(f'F1 Test: {f1_test}')"
   ]
  },
  {
   "cell_type": "markdown",
   "id": "9c4db7ed-9b32-4f8a-9077-cd08ea5323f8",
   "metadata": {},
   "source": [
    "O resultado **F1 score** melhorou em relação ao Sprint 2 e está semelhante ao Sprint 1"
   ]
  },
  {
   "cell_type": "code",
   "execution_count": 76,
   "id": "a3357c02-b558-4493-afc0-ffa2f705ce5d",
   "metadata": {},
   "outputs": [
    {
     "name": "stdout",
     "output_type": "stream",
     "text": [
      "Balanced Acc Train: 0.8913255360623782\n"
     ]
    }
   ],
   "source": [
    "from sklearn.metrics import balanced_accuracy_score\n",
    "\n",
    "balacc_test = balanced_accuracy_score(y_test, y_test_pred)\n",
    "\n",
    "print(f'Balanced Acc Train: {balacc_test}')"
   ]
  },
  {
   "cell_type": "code",
   "execution_count": null,
   "id": "ecf5c2bc-3e8a-4242-b472-78ca8a1be0ef",
   "metadata": {},
   "outputs": [],
   "source": []
  },
  {
   "cell_type": "markdown",
   "id": "66e3b287-8365-4d25-bef6-41ecd854af38",
   "metadata": {},
   "source": [
    "Os resultados dos testes de classificação no sprint 3 são ligeiramente melhores do que os resultados dos testes de classificação no sprint 1. A precisão, o recall e o F1-score do modelo no conjunto de teste aumentaram em 1%, 2% e 1%, respectivamente. A acurácia do modelo no conjunto de teste também aumentou em 1%.\r\n",
    "\r\n",
    "Essas melhorias podem ser atribuídas a um dos seguintes fatores:\r\n",
    "\r\n",
    "- Aumento do tamanho do conjunto de teste: O tamanho do conjunto de teste foi aumentado de 74 para 111 exemplos. Isso significa que os resultados são menos propensos a flutuações aleatórias.\r\n",
    "- Alteração da divisão de dados de teste: A divisão de dados de teste foi alterada de 0.2 para 0.3. Isso significa que o modelo foi treinado com um conjunto de dados maior e, portanto, pode ter aprendido a generalizar melhor para novos dados.\r\n",
    "- Outras melhorias: É possível que outras melhorias no processo de limpeza de dados, pre-processamento de dados ou treinamento do modelo também tenham contribuído para as melhorias nos resultados.\r\n",
    "É importante observar que os resultados dos testes de classificação no sprint 3 ainda são bons. O modelo é capaz de prever corretamente a maioria dos exemplos, incluindo exemplos negativos. Isso sugere que o modelo pode ser usado para classificar novos dados com precisão.\r\n"
   ]
  },
  {
   "cell_type": "code",
   "execution_count": null,
   "id": "3a344d98-6a2c-496b-a1d7-77da739c2f02",
   "metadata": {},
   "outputs": [],
   "source": []
  },
  {
   "cell_type": "code",
   "execution_count": null,
   "id": "57f3c9d0-7b1c-4b5d-bb91-3274b4ec2b4d",
   "metadata": {},
   "outputs": [],
   "source": []
  }
 ],
 "metadata": {
  "kernelspec": {
   "display_name": "Python 3 (ipykernel)",
   "language": "python",
   "name": "python3"
  },
  "language_info": {
   "codemirror_mode": {
    "name": "ipython",
    "version": 3
   },
   "file_extension": ".py",
   "mimetype": "text/x-python",
   "name": "python",
   "nbconvert_exporter": "python",
   "pygments_lexer": "ipython3",
   "version": "3.11.3"
  },
  "widgets": {
   "application/vnd.jupyter.widget-state+json": {
    "state": {},
    "version_major": 2,
    "version_minor": 0
   }
  }
 },
 "nbformat": 4,
 "nbformat_minor": 5
}
