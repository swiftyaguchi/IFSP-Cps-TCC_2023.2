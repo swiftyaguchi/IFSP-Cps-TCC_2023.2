{
 "cells": [
  {
   "cell_type": "markdown",
   "id": "78ffbd83-345d-4502-a4ae-7d094f92c96f",
   "metadata": {
    "tags": []
   },
   "source": [
    "**IFSP - Campus Campinas** <br>\n",
    "**Pós-graduação em Ciência de Dados** <br>\n",
    "\n",
    "**TCC - Avaliação de Projetos de Lei usando técnicas de NLP/ML**\n",
    "\n",
    "#### Sprint 4 - v 1.4 \n",
    "- continuando com dados salvos no Sprint 3, já pre-processados com SpaCy\n",
    "- pre-processamento com Neattext na coluna **'Ementa'** da PLO\n",
    "- feature extraction com TfidfVectorizer na coluna **'Ementa'** da PLO\n",
    "- treinamento com LogisticRegression\n",
    "- rodado em PC local (não AWS)\n",
    "\n",
    "Ref: Natural Language Processing (NLP) 2023.1 - IFSP Campinas <br>\r\n",
    "https://github.com/prof-samuka-IFSP/IFSP-CMP-D3TOP-2023.1/tree/main\n",
    "\n",
    "Orientadora: Bianca Maria Pedrosa - IFSP Campinas<br>\n",
    "Aluno: Swift Motoo Yaguchi - CP301665X"
   ]
  },
  {
   "cell_type": "markdown",
   "id": "29e47f9a-d68f-4484-aaf3-68077dbd0463",
   "metadata": {},
   "source": [
    "------"
   ]
  },
  {
   "cell_type": "markdown",
   "id": "11ae6a1f-7ca9-45ad-8546-1b8bdf1c4358",
   "metadata": {},
   "source": [
    "### 1. Etapa de limpeza e pré-processamento"
   ]
  },
  {
   "cell_type": "markdown",
   "id": "b6bf9296-072e-484f-97bb-35a557e16388",
   "metadata": {},
   "source": [
    "##### Instalando bibliotecas"
   ]
  },
  {
   "cell_type": "code",
   "execution_count": 1,
   "id": "b7b5c3bf-1a95-4c9d-bf87-a2baddf23965",
   "metadata": {
    "tags": []
   },
   "outputs": [
    {
     "name": "stdout",
     "output_type": "stream",
     "text": [
      "Requirement already satisfied: wordcloud in c:\\users\\swift\\appdata\\local\\programs\\python\\python311\\lib\\site-packages (1.9.2)\n",
      "Requirement already satisfied: numpy>=1.6.1 in c:\\users\\swift\\appdata\\local\\programs\\python\\python311\\lib\\site-packages (from wordcloud) (1.23.5)\n",
      "Requirement already satisfied: pillow in c:\\users\\swift\\appdata\\local\\programs\\python\\python311\\lib\\site-packages (from wordcloud) (9.5.0)\n",
      "Requirement already satisfied: matplotlib in c:\\users\\swift\\appdata\\local\\programs\\python\\python311\\lib\\site-packages (from wordcloud) (3.7.1)\n",
      "Requirement already satisfied: contourpy>=1.0.1 in c:\\users\\swift\\appdata\\local\\programs\\python\\python311\\lib\\site-packages (from matplotlib->wordcloud) (1.0.7)\n",
      "Requirement already satisfied: cycler>=0.10 in c:\\users\\swift\\appdata\\local\\programs\\python\\python311\\lib\\site-packages (from matplotlib->wordcloud) (0.11.0)\n",
      "Requirement already satisfied: fonttools>=4.22.0 in c:\\users\\swift\\appdata\\local\\programs\\python\\python311\\lib\\site-packages (from matplotlib->wordcloud) (4.39.4)\n",
      "Requirement already satisfied: kiwisolver>=1.0.1 in c:\\users\\swift\\appdata\\local\\programs\\python\\python311\\lib\\site-packages (from matplotlib->wordcloud) (1.4.4)\n",
      "Requirement already satisfied: packaging>=20.0 in c:\\users\\swift\\appdata\\local\\programs\\python\\python311\\lib\\site-packages (from matplotlib->wordcloud) (23.1)\n",
      "Requirement already satisfied: pyparsing>=2.3.1 in c:\\users\\swift\\appdata\\local\\programs\\python\\python311\\lib\\site-packages (from matplotlib->wordcloud) (3.0.9)\n",
      "Requirement already satisfied: python-dateutil>=2.7 in c:\\users\\swift\\appdata\\local\\programs\\python\\python311\\lib\\site-packages (from matplotlib->wordcloud) (2.8.2)\n",
      "Requirement already satisfied: six>=1.5 in c:\\users\\swift\\appdata\\local\\programs\\python\\python311\\lib\\site-packages (from python-dateutil>=2.7->matplotlib->wordcloud) (1.16.0)\n"
     ]
    }
   ],
   "source": [
    "#Upgrade dependencies\n",
    "#!pip install --upgrade pip\n",
    "#!pip install --upgrade scikit-learn\n",
    "!pip install --upgrade wordcloud\n",
    "#!pip install --upgrade sagemaker"
   ]
  },
  {
   "cell_type": "code",
   "execution_count": 2,
   "id": "912308e6-91f9-4170-be93-aa3c55d9ed41",
   "metadata": {
    "tags": []
   },
   "outputs": [],
   "source": [
    "import pandas as pd\n",
    "import numpy as np"
   ]
  },
  {
   "cell_type": "markdown",
   "id": "bd5ea3dc-ec4c-4602-a5a3-c30b95bb9acc",
   "metadata": {},
   "source": [
    "##### Leitura da base de dados salvo no Sprint 3"
   ]
  },
  {
   "cell_type": "code",
   "execution_count": 3,
   "id": "17243866-9758-4915-b999-61de695d2cb9",
   "metadata": {
    "tags": []
   },
   "outputs": [],
   "source": [
    "# load the datasets\n",
    "df_train = pd.read_csv('test_dataset_train_3.csv', sep=';', index_col=False)\n",
    "df_test = pd.read_csv('test_dataset_test_3.csv', sep=';', index_col=False)"
   ]
  },
  {
   "cell_type": "code",
   "execution_count": 4,
   "id": "d6b22402-4f92-400c-a839-44c69468e48f",
   "metadata": {
    "scrolled": true,
    "tags": []
   },
   "outputs": [
    {
     "data": {
      "text/html": [
       "<div>\n",
       "<style scoped>\n",
       "    .dataframe tbody tr th:only-of-type {\n",
       "        vertical-align: middle;\n",
       "    }\n",
       "\n",
       "    .dataframe tbody tr th {\n",
       "        vertical-align: top;\n",
       "    }\n",
       "\n",
       "    .dataframe thead th {\n",
       "        text-align: right;\n",
       "    }\n",
       "</style>\n",
       "<table border=\"1\" class=\"dataframe\">\n",
       "  <thead>\n",
       "    <tr style=\"text-align: right;\">\n",
       "      <th></th>\n",
       "      <th>Vereador</th>\n",
       "      <th>Partido</th>\n",
       "      <th>Aprovado</th>\n",
       "      <th>Ementa</th>\n",
       "      <th>Texto</th>\n",
       "      <th>Label</th>\n",
       "    </tr>\n",
       "  </thead>\n",
       "  <tbody>\n",
       "    <tr>\n",
       "      <th>0</th>\n",
       "      <td>Carlão do PT</td>\n",
       "      <td>PT</td>\n",
       "      <td>sim</td>\n",
       "      <td>denomina centro saúde acylino souza santos cen...</td>\n",
       "      <td>art 1 fica denominado centro saúde acylino sou...</td>\n",
       "      <td>1</td>\n",
       "    </tr>\n",
       "    <tr>\n",
       "      <th>1</th>\n",
       "      <td>Marcos Bernardelli</td>\n",
       "      <td>PSDB</td>\n",
       "      <td>sim</td>\n",
       "      <td>denomina avenida dr roberto cerqueira oliveira...</td>\n",
       "      <td>art 1 0 fica denominada avenida dr roberto cer...</td>\n",
       "      <td>1</td>\n",
       "    </tr>\n",
       "    <tr>\n",
       "      <th>2</th>\n",
       "      <td>Luiz Cirilo</td>\n",
       "      <td>PSDB</td>\n",
       "      <td>sim</td>\n",
       "      <td>proíbe estabelecimentos comerciais situados mu...</td>\n",
       "      <td>art 1 estabelecimentos comerciais situados mun...</td>\n",
       "      <td>1</td>\n",
       "    </tr>\n",
       "    <tr>\n",
       "      <th>3</th>\n",
       "      <td>Luiz Cirilo</td>\n",
       "      <td>PSDB</td>\n",
       "      <td>sim</td>\n",
       "      <td>institui programa conscientização prevenção al...</td>\n",
       "      <td>art 1 2 fica instituído município programa con...</td>\n",
       "      <td>1</td>\n",
       "    </tr>\n",
       "    <tr>\n",
       "      <th>4</th>\n",
       "      <td>Carmo Luiz</td>\n",
       "      <td>PSC</td>\n",
       "      <td>sim</td>\n",
       "      <td>denomina praça cyro baldin recreio município c...</td>\n",
       "      <td>art 1º fica denominado praça cyro baldin recre...</td>\n",
       "      <td>1</td>\n",
       "    </tr>\n",
       "    <tr>\n",
       "      <th>...</th>\n",
       "      <td>...</td>\n",
       "      <td>...</td>\n",
       "      <td>...</td>\n",
       "      <td>...</td>\n",
       "      <td>...</td>\n",
       "      <td>...</td>\n",
       "    </tr>\n",
       "    <tr>\n",
       "      <th>254</th>\n",
       "      <td>Juscelino da Barbarense</td>\n",
       "      <td>PP</td>\n",
       "      <td>não</td>\n",
       "      <td>obriga postos gasolina município campinas impl...</td>\n",
       "      <td>art i p postos gasolina município campinas fic...</td>\n",
       "      <td>0</td>\n",
       "    </tr>\n",
       "    <tr>\n",
       "      <th>255</th>\n",
       "      <td>Cidão Santos</td>\n",
       "      <td>PROS</td>\n",
       "      <td>não</td>\n",
       "      <td>dispõe implantação programa educação comportam...</td>\n",
       "      <td>art 1 2 secretaria municipal educação será res...</td>\n",
       "      <td>0</td>\n",
       "    </tr>\n",
       "    <tr>\n",
       "      <th>256</th>\n",
       "      <td>Nelson Hossri</td>\n",
       "      <td>PTN</td>\n",
       "      <td>não</td>\n",
       "      <td>dispõe criação bolsões eou espaços públicos ad...</td>\n",
       "      <td>09102019 conforme manifestação procuradoria le...</td>\n",
       "      <td>0</td>\n",
       "    </tr>\n",
       "    <tr>\n",
       "      <th>257</th>\n",
       "      <td>Jorge da Farmácia</td>\n",
       "      <td>PSDB</td>\n",
       "      <td>sim</td>\n",
       "      <td>reconhece âmbito município campinas visão mono...</td>\n",
       "      <td>art 10   fica reconhecida deficiência visual â...</td>\n",
       "      <td>1</td>\n",
       "    </tr>\n",
       "    <tr>\n",
       "      <th>258</th>\n",
       "      <td>Nelson Hossri</td>\n",
       "      <td>PTN</td>\n",
       "      <td>não</td>\n",
       "      <td>dispõe publicidade atos programas obras serviç...</td>\n",
       "      <td>art i p propagandas ações comunicação atos pro...</td>\n",
       "      <td>0</td>\n",
       "    </tr>\n",
       "  </tbody>\n",
       "</table>\n",
       "<p>259 rows × 6 columns</p>\n",
       "</div>"
      ],
      "text/plain": [
       "                    Vereador Partido Aprovado   \n",
       "0               Carlão do PT      PT      sim  \\\n",
       "1         Marcos Bernardelli    PSDB      sim   \n",
       "2                Luiz Cirilo    PSDB      sim   \n",
       "3                Luiz Cirilo    PSDB      sim   \n",
       "4                 Carmo Luiz     PSC      sim   \n",
       "..                       ...     ...      ...   \n",
       "254  Juscelino da Barbarense      PP      não   \n",
       "255             Cidão Santos    PROS      não   \n",
       "256            Nelson Hossri     PTN      não   \n",
       "257        Jorge da Farmácia    PSDB      sim   \n",
       "258            Nelson Hossri     PTN      não   \n",
       "\n",
       "                                                Ementa   \n",
       "0    denomina centro saúde acylino souza santos cen...  \\\n",
       "1    denomina avenida dr roberto cerqueira oliveira...   \n",
       "2    proíbe estabelecimentos comerciais situados mu...   \n",
       "3    institui programa conscientização prevenção al...   \n",
       "4    denomina praça cyro baldin recreio município c...   \n",
       "..                                                 ...   \n",
       "254  obriga postos gasolina município campinas impl...   \n",
       "255  dispõe implantação programa educação comportam...   \n",
       "256  dispõe criação bolsões eou espaços públicos ad...   \n",
       "257  reconhece âmbito município campinas visão mono...   \n",
       "258  dispõe publicidade atos programas obras serviç...   \n",
       "\n",
       "                                                 Texto  Label  \n",
       "0    art 1 fica denominado centro saúde acylino sou...      1  \n",
       "1    art 1 0 fica denominada avenida dr roberto cer...      1  \n",
       "2    art 1 estabelecimentos comerciais situados mun...      1  \n",
       "3    art 1 2 fica instituído município programa con...      1  \n",
       "4    art 1º fica denominado praça cyro baldin recre...      1  \n",
       "..                                                 ...    ...  \n",
       "254  art i p postos gasolina município campinas fic...      0  \n",
       "255  art 1 2 secretaria municipal educação será res...      0  \n",
       "256  09102019 conforme manifestação procuradoria le...      0  \n",
       "257  art 10   fica reconhecida deficiência visual â...      1  \n",
       "258  art i p propagandas ações comunicação atos pro...      0  \n",
       "\n",
       "[259 rows x 6 columns]"
      ]
     },
     "execution_count": 4,
     "metadata": {},
     "output_type": "execute_result"
    }
   ],
   "source": [
    "df_train"
   ]
  },
  {
   "cell_type": "code",
   "execution_count": 5,
   "id": "51a06145-9a36-4603-9553-f9a7c787050f",
   "metadata": {
    "scrolled": true,
    "tags": []
   },
   "outputs": [
    {
     "data": {
      "text/html": [
       "<div>\n",
       "<style scoped>\n",
       "    .dataframe tbody tr th:only-of-type {\n",
       "        vertical-align: middle;\n",
       "    }\n",
       "\n",
       "    .dataframe tbody tr th {\n",
       "        vertical-align: top;\n",
       "    }\n",
       "\n",
       "    .dataframe thead th {\n",
       "        text-align: right;\n",
       "    }\n",
       "</style>\n",
       "<table border=\"1\" class=\"dataframe\">\n",
       "  <thead>\n",
       "    <tr style=\"text-align: right;\">\n",
       "      <th></th>\n",
       "      <th>Vereador</th>\n",
       "      <th>Partido</th>\n",
       "      <th>Aprovado</th>\n",
       "      <th>Ementa</th>\n",
       "      <th>Texto</th>\n",
       "      <th>Label</th>\n",
       "    </tr>\n",
       "  </thead>\n",
       "  <tbody>\n",
       "    <tr>\n",
       "      <th>0</th>\n",
       "      <td>Jorge da Farmácia</td>\n",
       "      <td>PSDB</td>\n",
       "      <td>sim</td>\n",
       "      <td>declara órgão utilidade pública municipal fund...</td>\n",
       "      <td>art i p fica declarada órgão utilidade pública...</td>\n",
       "      <td>1</td>\n",
       "    </tr>\n",
       "    <tr>\n",
       "      <th>1</th>\n",
       "      <td>Carmo Luiz</td>\n",
       "      <td>PSC</td>\n",
       "      <td>não</td>\n",
       "      <td>institui homenagem mulheres vítimas feminicídi...</td>\n",
       "      <td>art i p fica instituída homenagem mulheres vít...</td>\n",
       "      <td>0</td>\n",
       "    </tr>\n",
       "    <tr>\n",
       "      <th>2</th>\n",
       "      <td>Zé Carlos</td>\n",
       "      <td>PSB</td>\n",
       "      <td>sim</td>\n",
       "      <td>denomina rua osvualte darri via pública municí...</td>\n",
       "      <td>art 1 fica denominada rua osvualte darri rua 0...</td>\n",
       "      <td>1</td>\n",
       "    </tr>\n",
       "    <tr>\n",
       "      <th>3</th>\n",
       "      <td>Luiz Rossini</td>\n",
       "      <td>PV</td>\n",
       "      <td>sim</td>\n",
       "      <td>inclui calendário oficial município campinas s...</td>\n",
       "      <td>art 1 2 fica incluída calendário oficial munic...</td>\n",
       "      <td>1</td>\n",
       "    </tr>\n",
       "    <tr>\n",
       "      <th>4</th>\n",
       "      <td>Cláudio da Farmácia</td>\n",
       "      <td>PSC</td>\n",
       "      <td>não</td>\n",
       "      <td>dispõe criação bolsões estacionamento exclusiv...</td>\n",
       "      <td>16092019 conforme manifestação procuradoria le...</td>\n",
       "      <td>0</td>\n",
       "    </tr>\n",
       "    <tr>\n",
       "      <th>...</th>\n",
       "      <td>...</td>\n",
       "      <td>...</td>\n",
       "      <td>...</td>\n",
       "      <td>...</td>\n",
       "      <td>...</td>\n",
       "      <td>...</td>\n",
       "    </tr>\n",
       "    <tr>\n",
       "      <th>106</th>\n",
       "      <td>Pr. Elias Azevedo</td>\n",
       "      <td>PSB</td>\n",
       "      <td>não</td>\n",
       "      <td>dispõe criação bolsões estacionamento exclusiv...</td>\n",
       "      <td>16092019 conforme manifestação procuradoria le...</td>\n",
       "      <td>0</td>\n",
       "    </tr>\n",
       "    <tr>\n",
       "      <th>107</th>\n",
       "      <td>Tenente Santini</td>\n",
       "      <td>PSD</td>\n",
       "      <td>não</td>\n",
       "      <td>estabelece critérios serem observados nomeação...</td>\n",
       "      <td>art i p nomeação cargos presidente diretor adm...</td>\n",
       "      <td>0</td>\n",
       "    </tr>\n",
       "    <tr>\n",
       "      <th>108</th>\n",
       "      <td>Marcos Bernardelli</td>\n",
       "      <td>PSDB</td>\n",
       "      <td>não</td>\n",
       "      <td>dispõe âmbito município campinas obrigatorieda...</td>\n",
       "      <td>art 10 ficam agências bancárias estabelecidas ...</td>\n",
       "      <td>0</td>\n",
       "    </tr>\n",
       "    <tr>\n",
       "      <th>109</th>\n",
       "      <td>Professor Alberto</td>\n",
       "      <td>PR</td>\n",
       "      <td>sim</td>\n",
       "      <td>altera art 1º lei nº 14045 07 abril 2011 inclu...</td>\n",
       "      <td>art 1º fica alterado art 1º lei nº 14045 7 abr...</td>\n",
       "      <td>1</td>\n",
       "    </tr>\n",
       "    <tr>\n",
       "      <th>110</th>\n",
       "      <td>Paulo Galterio</td>\n",
       "      <td>PSB</td>\n",
       "      <td>sim</td>\n",
       "      <td>altera redação   1º 3º art 2º lei nº 14789 4 a...</td>\n",
       "      <td>art 1 ficam alterados ss i p 3 2 art 2 2 lei n...</td>\n",
       "      <td>1</td>\n",
       "    </tr>\n",
       "  </tbody>\n",
       "</table>\n",
       "<p>111 rows × 6 columns</p>\n",
       "</div>"
      ],
      "text/plain": [
       "                Vereador Partido Aprovado   \n",
       "0      Jorge da Farmácia    PSDB      sim  \\\n",
       "1             Carmo Luiz     PSC      não   \n",
       "2              Zé Carlos     PSB      sim   \n",
       "3           Luiz Rossini      PV      sim   \n",
       "4    Cláudio da Farmácia     PSC      não   \n",
       "..                   ...     ...      ...   \n",
       "106    Pr. Elias Azevedo     PSB      não   \n",
       "107      Tenente Santini     PSD      não   \n",
       "108   Marcos Bernardelli    PSDB      não   \n",
       "109    Professor Alberto      PR      sim   \n",
       "110       Paulo Galterio     PSB      sim   \n",
       "\n",
       "                                                Ementa   \n",
       "0    declara órgão utilidade pública municipal fund...  \\\n",
       "1    institui homenagem mulheres vítimas feminicídi...   \n",
       "2    denomina rua osvualte darri via pública municí...   \n",
       "3    inclui calendário oficial município campinas s...   \n",
       "4    dispõe criação bolsões estacionamento exclusiv...   \n",
       "..                                                 ...   \n",
       "106  dispõe criação bolsões estacionamento exclusiv...   \n",
       "107  estabelece critérios serem observados nomeação...   \n",
       "108  dispõe âmbito município campinas obrigatorieda...   \n",
       "109  altera art 1º lei nº 14045 07 abril 2011 inclu...   \n",
       "110  altera redação   1º 3º art 2º lei nº 14789 4 a...   \n",
       "\n",
       "                                                 Texto  Label  \n",
       "0    art i p fica declarada órgão utilidade pública...      1  \n",
       "1    art i p fica instituída homenagem mulheres vít...      0  \n",
       "2    art 1 fica denominada rua osvualte darri rua 0...      1  \n",
       "3    art 1 2 fica incluída calendário oficial munic...      1  \n",
       "4    16092019 conforme manifestação procuradoria le...      0  \n",
       "..                                                 ...    ...  \n",
       "106  16092019 conforme manifestação procuradoria le...      0  \n",
       "107  art i p nomeação cargos presidente diretor adm...      0  \n",
       "108  art 10 ficam agências bancárias estabelecidas ...      0  \n",
       "109  art 1º fica alterado art 1º lei nº 14045 7 abr...      1  \n",
       "110  art 1 ficam alterados ss i p 3 2 art 2 2 lei n...      1  \n",
       "\n",
       "[111 rows x 6 columns]"
      ]
     },
     "execution_count": 5,
     "metadata": {},
     "output_type": "execute_result"
    }
   ],
   "source": [
    "df_test"
   ]
  },
  {
   "cell_type": "code",
   "execution_count": 6,
   "id": "03d8dc93-6c70-48b5-8ece-e48099247ba9",
   "metadata": {
    "tags": []
   },
   "outputs": [
    {
     "name": "stdout",
     "output_type": "stream",
     "text": [
      "O tamanho do dataset de treino é: (259, 6)\n",
      "O tamanho do dataset de teste é: (111, 6)\n"
     ]
    }
   ],
   "source": [
    "print('O tamanho do dataset de treino é:', df_train.shape)\n",
    "print('O tamanho do dataset de teste é:', df_test.shape)"
   ]
  },
  {
   "cell_type": "markdown",
   "id": "2c4890de-15de-4109-a70d-4abbdd2c07ee",
   "metadata": {},
   "source": [
    "##### Nova remoção na coluna 'Texto' usando biblioteca neattext\n",
    "- lowering, expand contractions\n",
    "- remove:\n",
    "  + punctuations, stop words, urls, emails, numbers, emojis, phone numbers, multiple whitespaces, currency symbols, special characters"
   ]
  },
  {
   "cell_type": "code",
   "execution_count": 7,
   "id": "411c5ad4-4442-4514-af25-e666cc37e2e9",
   "metadata": {
    "tags": []
   },
   "outputs": [
    {
     "name": "stdout",
     "output_type": "stream",
     "text": [
      "Requirement already satisfied: neattext in c:\\users\\swift\\appdata\\local\\programs\\python\\python311\\lib\\site-packages (0.1.3)\n"
     ]
    }
   ],
   "source": [
    "!pip install neattext"
   ]
  },
  {
   "cell_type": "code",
   "execution_count": 8,
   "id": "e5893ed8-eff5-4dea-a7f9-39200998fc79",
   "metadata": {
    "tags": []
   },
   "outputs": [],
   "source": [
    "import neattext.functions as ntx\n",
    "\n",
    "def text_preprocessing(text_in: str) -> str:\n",
    "    text = text_in.lower()\n",
    "    text = ntx.fix_contractions(text)\n",
    "    text = ntx.remove_punctuations(text)\n",
    "    text = ntx.remove_stopwords(text)\n",
    "    text = ntx.remove_urls(text)\n",
    "    text = ntx.remove_emails(text)\n",
    "    text = ntx.remove_numbers(text)\n",
    "    text = ntx.remove_emojis(text)\n",
    "    text = ntx.remove_phone_numbers(text)\n",
    "    text = ntx.remove_multiple_spaces(text)\n",
    "    text = ntx.remove_currency_symbols(text)\n",
    "    text = ntx.remove_special_characters(text)\n",
    "    return text"
   ]
  },
  {
   "cell_type": "code",
   "execution_count": 9,
   "id": "b31df326-dacc-4867-ba22-5783e30af2bd",
   "metadata": {
    "tags": []
   },
   "outputs": [
    {
     "name": "stdout",
     "output_type": "stream",
     "text": [
      "Requirement already satisfied: tqdm in c:\\users\\swift\\appdata\\local\\programs\\python\\python311\\lib\\site-packages (4.65.0)\n",
      "Requirement already satisfied: colorama in c:\\users\\swift\\appdata\\local\\programs\\python\\python311\\lib\\site-packages (from tqdm) (0.4.6)\n"
     ]
    }
   ],
   "source": [
    "# progress bar in pandas\n",
    "!pip install tqdm"
   ]
  },
  {
   "cell_type": "code",
   "execution_count": 10,
   "id": "1f003d03-8e70-4791-b67c-c049db369653",
   "metadata": {
    "tags": []
   },
   "outputs": [],
   "source": [
    "from tqdm import tqdm\n",
    "tqdm.pandas()  # it enables some new progress bar functions/methods for pandas"
   ]
  },
  {
   "cell_type": "code",
   "execution_count": 11,
   "id": "1d2834ad-ab56-4e1d-a4de-cfe8201eea2c",
   "metadata": {
    "tags": []
   },
   "outputs": [
    {
     "name": "stderr",
     "output_type": "stream",
     "text": [
      "100%|███████████████████████████████████████████████████████████████████████████████| 259/259 [00:00<00:00, 515.23it/s]\n"
     ]
    }
   ],
   "source": [
    "# pre-process the training set\n",
    "df_train['Ementa-pre'] = df_train['Ementa'].progress_apply(lambda text: text_preprocessing(text))"
   ]
  },
  {
   "cell_type": "code",
   "execution_count": 12,
   "id": "530bc134-8ca7-4a06-b240-9603b8428f62",
   "metadata": {
    "scrolled": true,
    "tags": []
   },
   "outputs": [
    {
     "data": {
      "text/html": [
       "<div>\n",
       "<style scoped>\n",
       "    .dataframe tbody tr th:only-of-type {\n",
       "        vertical-align: middle;\n",
       "    }\n",
       "\n",
       "    .dataframe tbody tr th {\n",
       "        vertical-align: top;\n",
       "    }\n",
       "\n",
       "    .dataframe thead th {\n",
       "        text-align: right;\n",
       "    }\n",
       "</style>\n",
       "<table border=\"1\" class=\"dataframe\">\n",
       "  <thead>\n",
       "    <tr style=\"text-align: right;\">\n",
       "      <th></th>\n",
       "      <th>Vereador</th>\n",
       "      <th>Partido</th>\n",
       "      <th>Aprovado</th>\n",
       "      <th>Ementa</th>\n",
       "      <th>Texto</th>\n",
       "      <th>Label</th>\n",
       "      <th>Ementa-pre</th>\n",
       "    </tr>\n",
       "  </thead>\n",
       "  <tbody>\n",
       "    <tr>\n",
       "      <th>0</th>\n",
       "      <td>Carlão do PT</td>\n",
       "      <td>PT</td>\n",
       "      <td>sim</td>\n",
       "      <td>denomina centro saúde acylino souza santos cen...</td>\n",
       "      <td>art 1 fica denominado centro saúde acylino sou...</td>\n",
       "      <td>1</td>\n",
       "      <td>denomina centro sade acylino souza santos cent...</td>\n",
       "    </tr>\n",
       "    <tr>\n",
       "      <th>1</th>\n",
       "      <td>Marcos Bernardelli</td>\n",
       "      <td>PSDB</td>\n",
       "      <td>sim</td>\n",
       "      <td>denomina avenida dr roberto cerqueira oliveira...</td>\n",
       "      <td>art 1 0 fica denominada avenida dr roberto cer...</td>\n",
       "      <td>1</td>\n",
       "      <td>denomina avenida dr roberto cerqueira oliveira...</td>\n",
       "    </tr>\n",
       "    <tr>\n",
       "      <th>2</th>\n",
       "      <td>Luiz Cirilo</td>\n",
       "      <td>PSDB</td>\n",
       "      <td>sim</td>\n",
       "      <td>proíbe estabelecimentos comerciais situados mu...</td>\n",
       "      <td>art 1 estabelecimentos comerciais situados mun...</td>\n",
       "      <td>1</td>\n",
       "      <td>probe estabelecimentos comerciais situados mun...</td>\n",
       "    </tr>\n",
       "    <tr>\n",
       "      <th>3</th>\n",
       "      <td>Luiz Cirilo</td>\n",
       "      <td>PSDB</td>\n",
       "      <td>sim</td>\n",
       "      <td>institui programa conscientização prevenção al...</td>\n",
       "      <td>art 1 2 fica instituído município programa con...</td>\n",
       "      <td>1</td>\n",
       "      <td>institui programa conscientizao preveno aliena...</td>\n",
       "    </tr>\n",
       "    <tr>\n",
       "      <th>4</th>\n",
       "      <td>Carmo Luiz</td>\n",
       "      <td>PSC</td>\n",
       "      <td>sim</td>\n",
       "      <td>denomina praça cyro baldin recreio município c...</td>\n",
       "      <td>art 1º fica denominado praça cyro baldin recre...</td>\n",
       "      <td>1</td>\n",
       "      <td>denomina praa cyro baldin recreio municpio cam...</td>\n",
       "    </tr>\n",
       "  </tbody>\n",
       "</table>\n",
       "</div>"
      ],
      "text/plain": [
       "             Vereador Partido Aprovado   \n",
       "0        Carlão do PT      PT      sim  \\\n",
       "1  Marcos Bernardelli    PSDB      sim   \n",
       "2         Luiz Cirilo    PSDB      sim   \n",
       "3         Luiz Cirilo    PSDB      sim   \n",
       "4          Carmo Luiz     PSC      sim   \n",
       "\n",
       "                                              Ementa   \n",
       "0  denomina centro saúde acylino souza santos cen...  \\\n",
       "1  denomina avenida dr roberto cerqueira oliveira...   \n",
       "2  proíbe estabelecimentos comerciais situados mu...   \n",
       "3  institui programa conscientização prevenção al...   \n",
       "4  denomina praça cyro baldin recreio município c...   \n",
       "\n",
       "                                               Texto  Label   \n",
       "0  art 1 fica denominado centro saúde acylino sou...      1  \\\n",
       "1  art 1 0 fica denominada avenida dr roberto cer...      1   \n",
       "2  art 1 estabelecimentos comerciais situados mun...      1   \n",
       "3  art 1 2 fica instituído município programa con...      1   \n",
       "4  art 1º fica denominado praça cyro baldin recre...      1   \n",
       "\n",
       "                                          Ementa-pre  \n",
       "0  denomina centro sade acylino souza santos cent...  \n",
       "1  denomina avenida dr roberto cerqueira oliveira...  \n",
       "2  probe estabelecimentos comerciais situados mun...  \n",
       "3  institui programa conscientizao preveno aliena...  \n",
       "4  denomina praa cyro baldin recreio municpio cam...  "
      ]
     },
     "execution_count": 12,
     "metadata": {},
     "output_type": "execute_result"
    }
   ],
   "source": [
    "df_train.head()"
   ]
  },
  {
   "cell_type": "code",
   "execution_count": 13,
   "id": "ab789a1b-2aa2-4625-8907-7e73f32088aa",
   "metadata": {
    "tags": []
   },
   "outputs": [
    {
     "name": "stderr",
     "output_type": "stream",
     "text": [
      "100%|███████████████████████████████████████████████████████████████████████████████| 111/111 [00:00<00:00, 925.56it/s]\n"
     ]
    }
   ],
   "source": [
    "# pre-process the training set\n",
    "df_test['Ementa-pre'] = df_test['Ementa'].progress_apply(lambda text: text_preprocessing(text))"
   ]
  },
  {
   "cell_type": "code",
   "execution_count": 14,
   "id": "d443de0f-a006-484a-8fc8-1bb9075262f5",
   "metadata": {
    "scrolled": true,
    "tags": []
   },
   "outputs": [
    {
     "data": {
      "text/html": [
       "<div>\n",
       "<style scoped>\n",
       "    .dataframe tbody tr th:only-of-type {\n",
       "        vertical-align: middle;\n",
       "    }\n",
       "\n",
       "    .dataframe tbody tr th {\n",
       "        vertical-align: top;\n",
       "    }\n",
       "\n",
       "    .dataframe thead th {\n",
       "        text-align: right;\n",
       "    }\n",
       "</style>\n",
       "<table border=\"1\" class=\"dataframe\">\n",
       "  <thead>\n",
       "    <tr style=\"text-align: right;\">\n",
       "      <th></th>\n",
       "      <th>Vereador</th>\n",
       "      <th>Partido</th>\n",
       "      <th>Aprovado</th>\n",
       "      <th>Ementa</th>\n",
       "      <th>Texto</th>\n",
       "      <th>Label</th>\n",
       "      <th>Ementa-pre</th>\n",
       "    </tr>\n",
       "  </thead>\n",
       "  <tbody>\n",
       "    <tr>\n",
       "      <th>0</th>\n",
       "      <td>Jorge da Farmácia</td>\n",
       "      <td>PSDB</td>\n",
       "      <td>sim</td>\n",
       "      <td>declara órgão utilidade pública municipal fund...</td>\n",
       "      <td>art i p fica declarada órgão utilidade pública...</td>\n",
       "      <td>1</td>\n",
       "      <td>declara rgo utilidade pblica municipal fundao ...</td>\n",
       "    </tr>\n",
       "    <tr>\n",
       "      <th>1</th>\n",
       "      <td>Carmo Luiz</td>\n",
       "      <td>PSC</td>\n",
       "      <td>não</td>\n",
       "      <td>institui homenagem mulheres vítimas feminicídi...</td>\n",
       "      <td>art i p fica instituída homenagem mulheres vít...</td>\n",
       "      <td>0</td>\n",
       "      <td>institui homenagem mulheres vtimas feminicdio ...</td>\n",
       "    </tr>\n",
       "    <tr>\n",
       "      <th>2</th>\n",
       "      <td>Zé Carlos</td>\n",
       "      <td>PSB</td>\n",
       "      <td>sim</td>\n",
       "      <td>denomina rua osvualte darri via pública municí...</td>\n",
       "      <td>art 1 fica denominada rua osvualte darri rua 0...</td>\n",
       "      <td>1</td>\n",
       "      <td>denomina rua osvualte darri pblica municpio ca...</td>\n",
       "    </tr>\n",
       "    <tr>\n",
       "      <th>3</th>\n",
       "      <td>Luiz Rossini</td>\n",
       "      <td>PV</td>\n",
       "      <td>sim</td>\n",
       "      <td>inclui calendário oficial município campinas s...</td>\n",
       "      <td>art 1 2 fica incluída calendário oficial munic...</td>\n",
       "      <td>1</td>\n",
       "      <td>inclui calendrio oficial municpio campinas sem...</td>\n",
       "    </tr>\n",
       "    <tr>\n",
       "      <th>4</th>\n",
       "      <td>Cláudio da Farmácia</td>\n",
       "      <td>PSC</td>\n",
       "      <td>não</td>\n",
       "      <td>dispõe criação bolsões estacionamento exclusiv...</td>\n",
       "      <td>16092019 conforme manifestação procuradoria le...</td>\n",
       "      <td>0</td>\n",
       "      <td>dispe criao bolses estacionamento exclusivos m...</td>\n",
       "    </tr>\n",
       "  </tbody>\n",
       "</table>\n",
       "</div>"
      ],
      "text/plain": [
       "              Vereador Partido Aprovado   \n",
       "0    Jorge da Farmácia    PSDB      sim  \\\n",
       "1           Carmo Luiz     PSC      não   \n",
       "2            Zé Carlos     PSB      sim   \n",
       "3         Luiz Rossini      PV      sim   \n",
       "4  Cláudio da Farmácia     PSC      não   \n",
       "\n",
       "                                              Ementa   \n",
       "0  declara órgão utilidade pública municipal fund...  \\\n",
       "1  institui homenagem mulheres vítimas feminicídi...   \n",
       "2  denomina rua osvualte darri via pública municí...   \n",
       "3  inclui calendário oficial município campinas s...   \n",
       "4  dispõe criação bolsões estacionamento exclusiv...   \n",
       "\n",
       "                                               Texto  Label   \n",
       "0  art i p fica declarada órgão utilidade pública...      1  \\\n",
       "1  art i p fica instituída homenagem mulheres vít...      0   \n",
       "2  art 1 fica denominada rua osvualte darri rua 0...      1   \n",
       "3  art 1 2 fica incluída calendário oficial munic...      1   \n",
       "4  16092019 conforme manifestação procuradoria le...      0   \n",
       "\n",
       "                                          Ementa-pre  \n",
       "0  declara rgo utilidade pblica municipal fundao ...  \n",
       "1  institui homenagem mulheres vtimas feminicdio ...  \n",
       "2  denomina rua osvualte darri pblica municpio ca...  \n",
       "3  inclui calendrio oficial municpio campinas sem...  \n",
       "4  dispe criao bolses estacionamento exclusivos m...  "
      ]
     },
     "execution_count": 14,
     "metadata": {},
     "output_type": "execute_result"
    }
   ],
   "source": [
    "df_test.head()"
   ]
  },
  {
   "cell_type": "markdown",
   "id": "285f5c63-4751-425c-978c-98932dea03d5",
   "metadata": {},
   "source": [
    "### 3. Feature Extraction"
   ]
  },
  {
   "cell_type": "code",
   "execution_count": 15,
   "id": "a4ad6136-7938-476c-a93f-47073d2428dd",
   "metadata": {
    "tags": []
   },
   "outputs": [],
   "source": [
    "from sklearn.feature_extraction.text import TfidfVectorizer\n",
    "\n",
    "tfidf = TfidfVectorizer()\n",
    "\n",
    "X_train = tfidf.fit_transform(df_train['Ementa-pre'])\n",
    "y_train = df_train['Label']\n",
    "\n",
    "X_test = tfidf.transform(df_test['Ementa-pre'])\n",
    "y_test = df_test['Label']"
   ]
  },
  {
   "cell_type": "code",
   "execution_count": 16,
   "id": "4baab7af-1e5e-47b6-9b82-f615701f060d",
   "metadata": {
    "tags": []
   },
   "outputs": [
    {
     "data": {
      "text/plain": [
       "((259, 1199), (111, 1199))"
      ]
     },
     "execution_count": 16,
     "metadata": {},
     "output_type": "execute_result"
    }
   ],
   "source": [
    "X_train.shape, X_test.shape"
   ]
  },
  {
   "cell_type": "code",
   "execution_count": 17,
   "id": "0fe126e6-22fd-4be3-a316-4a2846d15d57",
   "metadata": {
    "tags": []
   },
   "outputs": [
    {
     "name": "stdout",
     "output_type": "stream",
     "text": [
      "Vocabulary size: 1199\n"
     ]
    }
   ],
   "source": [
    "print(f'Vocabulary size: {len(tfidf.vocabulary_)}')"
   ]
  },
  {
   "cell_type": "markdown",
   "id": "de3efbba-3a5e-479b-a9b8-e1334b8376ce",
   "metadata": {},
   "source": [
    "### 4. Treinamento de modelos"
   ]
  },
  {
   "cell_type": "code",
   "execution_count": 18,
   "id": "14bc1a9f-1df6-444b-b720-59bb816c627f",
   "metadata": {
    "tags": []
   },
   "outputs": [
    {
     "data": {
      "text/html": [
       "<style>#sk-container-id-1 {color: black;}#sk-container-id-1 pre{padding: 0;}#sk-container-id-1 div.sk-toggleable {background-color: white;}#sk-container-id-1 label.sk-toggleable__label {cursor: pointer;display: block;width: 100%;margin-bottom: 0;padding: 0.3em;box-sizing: border-box;text-align: center;}#sk-container-id-1 label.sk-toggleable__label-arrow:before {content: \"▸\";float: left;margin-right: 0.25em;color: #696969;}#sk-container-id-1 label.sk-toggleable__label-arrow:hover:before {color: black;}#sk-container-id-1 div.sk-estimator:hover label.sk-toggleable__label-arrow:before {color: black;}#sk-container-id-1 div.sk-toggleable__content {max-height: 0;max-width: 0;overflow: hidden;text-align: left;background-color: #f0f8ff;}#sk-container-id-1 div.sk-toggleable__content pre {margin: 0.2em;color: black;border-radius: 0.25em;background-color: #f0f8ff;}#sk-container-id-1 input.sk-toggleable__control:checked~div.sk-toggleable__content {max-height: 200px;max-width: 100%;overflow: auto;}#sk-container-id-1 input.sk-toggleable__control:checked~label.sk-toggleable__label-arrow:before {content: \"▾\";}#sk-container-id-1 div.sk-estimator input.sk-toggleable__control:checked~label.sk-toggleable__label {background-color: #d4ebff;}#sk-container-id-1 div.sk-label input.sk-toggleable__control:checked~label.sk-toggleable__label {background-color: #d4ebff;}#sk-container-id-1 input.sk-hidden--visually {border: 0;clip: rect(1px 1px 1px 1px);clip: rect(1px, 1px, 1px, 1px);height: 1px;margin: -1px;overflow: hidden;padding: 0;position: absolute;width: 1px;}#sk-container-id-1 div.sk-estimator {font-family: monospace;background-color: #f0f8ff;border: 1px dotted black;border-radius: 0.25em;box-sizing: border-box;margin-bottom: 0.5em;}#sk-container-id-1 div.sk-estimator:hover {background-color: #d4ebff;}#sk-container-id-1 div.sk-parallel-item::after {content: \"\";width: 100%;border-bottom: 1px solid gray;flex-grow: 1;}#sk-container-id-1 div.sk-label:hover label.sk-toggleable__label {background-color: #d4ebff;}#sk-container-id-1 div.sk-serial::before {content: \"\";position: absolute;border-left: 1px solid gray;box-sizing: border-box;top: 0;bottom: 0;left: 50%;z-index: 0;}#sk-container-id-1 div.sk-serial {display: flex;flex-direction: column;align-items: center;background-color: white;padding-right: 0.2em;padding-left: 0.2em;position: relative;}#sk-container-id-1 div.sk-item {position: relative;z-index: 1;}#sk-container-id-1 div.sk-parallel {display: flex;align-items: stretch;justify-content: center;background-color: white;position: relative;}#sk-container-id-1 div.sk-item::before, #sk-container-id-1 div.sk-parallel-item::before {content: \"\";position: absolute;border-left: 1px solid gray;box-sizing: border-box;top: 0;bottom: 0;left: 50%;z-index: -1;}#sk-container-id-1 div.sk-parallel-item {display: flex;flex-direction: column;z-index: 1;position: relative;background-color: white;}#sk-container-id-1 div.sk-parallel-item:first-child::after {align-self: flex-end;width: 50%;}#sk-container-id-1 div.sk-parallel-item:last-child::after {align-self: flex-start;width: 50%;}#sk-container-id-1 div.sk-parallel-item:only-child::after {width: 0;}#sk-container-id-1 div.sk-dashed-wrapped {border: 1px dashed gray;margin: 0 0.4em 0.5em 0.4em;box-sizing: border-box;padding-bottom: 0.4em;background-color: white;}#sk-container-id-1 div.sk-label label {font-family: monospace;font-weight: bold;display: inline-block;line-height: 1.2em;}#sk-container-id-1 div.sk-label-container {text-align: center;}#sk-container-id-1 div.sk-container {/* jupyter's `normalize.less` sets `[hidden] { display: none; }` but bootstrap.min.css set `[hidden] { display: none !important; }` so we also need the `!important` here to be able to override the default hidden behavior on the sphinx rendered scikit-learn.org. See: https://github.com/scikit-learn/scikit-learn/issues/21755 */display: inline-block !important;position: relative;}#sk-container-id-1 div.sk-text-repr-fallback {display: none;}</style><div id=\"sk-container-id-1\" class=\"sk-top-container\"><div class=\"sk-text-repr-fallback\"><pre>LogisticRegression(class_weight=&#x27;balanced&#x27;, n_jobs=-1)</pre><b>In a Jupyter environment, please rerun this cell to show the HTML representation or trust the notebook. <br />On GitHub, the HTML representation is unable to render, please try loading this page with nbviewer.org.</b></div><div class=\"sk-container\" hidden><div class=\"sk-item\"><div class=\"sk-estimator sk-toggleable\"><input class=\"sk-toggleable__control sk-hidden--visually\" id=\"sk-estimator-id-1\" type=\"checkbox\" checked><label for=\"sk-estimator-id-1\" class=\"sk-toggleable__label sk-toggleable__label-arrow\">LogisticRegression</label><div class=\"sk-toggleable__content\"><pre>LogisticRegression(class_weight=&#x27;balanced&#x27;, n_jobs=-1)</pre></div></div></div></div></div>"
      ],
      "text/plain": [
       "LogisticRegression(class_weight='balanced', n_jobs=-1)"
      ]
     },
     "execution_count": 18,
     "metadata": {},
     "output_type": "execute_result"
    }
   ],
   "source": [
    "from sklearn.linear_model import LogisticRegression\n",
    "\n",
    "logreg = LogisticRegression(class_weight='balanced', n_jobs=-1)\n",
    "\n",
    "logreg.fit(X_train, y_train)"
   ]
  },
  {
   "cell_type": "code",
   "execution_count": 19,
   "id": "a4642296-3db2-49b4-a598-dc29924e803a",
   "metadata": {
    "tags": []
   },
   "outputs": [],
   "source": [
    "# prediction on training set\n",
    "y_train_pred = logreg.predict(X_train)"
   ]
  },
  {
   "cell_type": "code",
   "execution_count": 20,
   "id": "a12b857b-af0e-4458-9cf3-f18b90b9006f",
   "metadata": {
    "tags": []
   },
   "outputs": [
    {
     "name": "stdout",
     "output_type": "stream",
     "text": [
      "              precision    recall  f1-score   support\n",
      "\n",
      "           0       0.93      0.98      0.95       132\n",
      "           1       0.97      0.92      0.95       127\n",
      "\n",
      "    accuracy                           0.95       259\n",
      "   macro avg       0.95      0.95      0.95       259\n",
      "weighted avg       0.95      0.95      0.95       259\n",
      "\n"
     ]
    }
   ],
   "source": [
    "from sklearn.metrics import classification_report\n",
    "\n",
    "#print(classification_report(y_train, y_train_pred, target_names=target_names))\n",
    "print(classification_report(y_train, y_train_pred))"
   ]
  },
  {
   "cell_type": "code",
   "execution_count": 21,
   "id": "ac79d2f9-7604-4e54-a1f3-3aaf7abe6cae",
   "metadata": {
    "tags": []
   },
   "outputs": [
    {
     "name": "stdout",
     "output_type": "stream",
     "text": [
      "F1 Train: 0.9496989706739172\n"
     ]
    }
   ],
   "source": [
    "from sklearn.metrics import f1_score\n",
    "\n",
    "f1_train = f1_score(y_train, y_train_pred, average='macro')from sklearn.metrics import balanced_accuracy_score\n",
    "\n",
    "balacc_train = balanced_accuracy_score(y_train, y_train_pred)\n",
    "\n",
    "print(f'Balanced Acc Train: {balacc_train}')\n",
    "\n",
    "print(f'F1 Train: {f1_train}')"
   ]
  },
  {
   "cell_type": "code",
   "execution_count": 22,
   "id": "c0f7d9c9-d9b7-4238-a0ea-ddc64b093381",
   "metadata": {
    "tags": []
   },
   "outputs": [
    {
     "name": "stdout",
     "output_type": "stream",
     "text": [
      "Balanced Acc Train: 0.9492662848962061\n"
     ]
    }
   ],
   "source": [
    "from sklearn.metrics import balanced_accuracy_score\n",
    "\n",
    "balacc_train = balanced_accuracy_score(y_train, y_train_pred)\n",
    "\n",
    "print(f'Balanced Acc Train: {balacc_train}')"
   ]
  },
  {
   "cell_type": "markdown",
   "id": "6a83797a-fb23-4fb2-b80c-0816b616fe12",
   "metadata": {},
   "source": [
    "#### Evaluate the model on the Test Set"
   ]
  },
  {
   "cell_type": "code",
   "execution_count": 23,
   "id": "da3b5eb3-2ed9-4b27-89af-41c87f1a8b9e",
   "metadata": {
    "tags": []
   },
   "outputs": [],
   "source": [
    "# prediction on testing set\n",
    "y_test_pred = logreg.predict(X_test)"
   ]
  },
  {
   "cell_type": "code",
   "execution_count": 24,
   "id": "62383680-d01b-4924-b638-0d335dc736c3",
   "metadata": {
    "tags": []
   },
   "outputs": [
    {
     "name": "stdout",
     "output_type": "stream",
     "text": [
      "              precision    recall  f1-score   support\n",
      "\n",
      "           0       0.90      0.81      0.85        57\n",
      "           1       0.82      0.91      0.86        54\n",
      "\n",
      "    accuracy                           0.86       111\n",
      "   macro avg       0.86      0.86      0.86       111\n",
      "weighted avg       0.86      0.86      0.86       111\n",
      "\n"
     ]
    }
   ],
   "source": [
    "#from sklearn.metrics import classification_report\n",
    "print(classification_report(y_test, y_test_pred))"
   ]
  },
  {
   "cell_type": "code",
   "execution_count": 25,
   "id": "e835224a-544a-45e7-9761-edf04d24bf68",
   "metadata": {
    "tags": []
   },
   "outputs": [
    {
     "name": "stdout",
     "output_type": "stream",
     "text": [
      "F1 Test: 0.8557504873294347\n"
     ]
    }
   ],
   "source": [
    "from sklearn.metrics import f1_score\n",
    "f1_test = f1_score(y_test, y_test_pred, average='macro')\n",
    "print(f'F1 Test: {f1_test}')"
   ]
  },
  {
   "cell_type": "markdown",
   "id": "9c4db7ed-9b32-4f8a-9077-cd08ea5323f8",
   "metadata": {},
   "source": [
    "O resultado **F1 score** diminuiu um pouco em relação ao Sprint 3, devido ao menor vocabulário no campo 'Ementa' em relação ao campo \"Texto'"
   ]
  },
  {
   "cell_type": "code",
   "execution_count": 26,
   "id": "a3357c02-b558-4493-afc0-ffa2f705ce5d",
   "metadata": {},
   "outputs": [
    {
     "name": "stdout",
     "output_type": "stream",
     "text": [
      "Balanced Acc Train: 0.8572124756335282\n"
     ]
    }
   ],
   "source": [
    "from sklearn.metrics import balanced_accuracy_score\n",
    "\n",
    "balacc_test = balanced_accuracy_score(y_test, y_test_pred)\n",
    "\n",
    "print(f'Balanced Acc Train: {balacc_test}')"
   ]
  },
  {
   "cell_type": "code",
   "execution_count": null,
   "id": "ecf5c2bc-3e8a-4242-b472-78ca8a1be0ef",
   "metadata": {},
   "outputs": [],
   "source": []
  },
  {
   "cell_type": "markdown",
   "id": "e30c371f-5061-4f76-ad70-536ba3d18d0e",
   "metadata": {},
   "source": [
    "Os resultados dos testes de classificação no sprint 4 são ligeiramente piores do que os resultados dos testes de classificação no sprint 3. A precisão, o recall e o F1-score do modelo no conjunto de teste diminuíram em 1%, 4% e 3%, respectivamente. A acurácia do modelo no conjunto de teste também diminuiu em 3%.\n",
    "\n",
    "Essas quedas nos resultados podem ser devido a um dos seguintes fatores:\n",
    "\n",
    "- Inclusão da ementa: A ementa pode não ser uma característica tão importante quanto o texto do projeto de lei para a classificação de projetos de lei.<br>\n",
    "- Tamanho do conjunto de teste: O tamanho do conjunto de teste é relativamente pequeno (111 exemplos). Isso significa que os resultados podem ser mais propensos a flutuações aleatórias."
   ]
  },
  {
   "cell_type": "code",
   "execution_count": null,
   "id": "09bdceee-563e-4f9c-9bed-5850cdd4e232",
   "metadata": {},
   "outputs": [],
   "source": []
  }
 ],
 "metadata": {
  "kernelspec": {
   "display_name": "Python 3 (ipykernel)",
   "language": "python",
   "name": "python3"
  },
  "language_info": {
   "codemirror_mode": {
    "name": "ipython",
    "version": 3
   },
   "file_extension": ".py",
   "mimetype": "text/x-python",
   "name": "python",
   "nbconvert_exporter": "python",
   "pygments_lexer": "ipython3",
   "version": "3.11.3"
  },
  "widgets": {
   "application/vnd.jupyter.widget-state+json": {
    "state": {},
    "version_major": 2,
    "version_minor": 0
   }
  }
 },
 "nbformat": 4,
 "nbformat_minor": 5
}
